{
 "cells": [
  {
   "cell_type": "markdown",
   "metadata": {},
   "source": [
    "# 11. Ensemble models "
   ]
  },
  {
   "cell_type": "markdown",
   "metadata": {},
   "source": [
    "The first step is to activate the packages and load the data."
   ]
  },
  {
   "cell_type": "code",
   "execution_count": 1,
   "metadata": {},
   "outputs": [],
   "source": [
    "import quandl\n",
    "import pyreadr\n",
    "import scipy\n",
    "import pandas as pd\n",
    "import numpy as np\n",
    "import matplotlib.pyplot as plt\n",
    "%matplotlib inline\n",
    "from datetime import datetime as dt\n",
    "from sklearn.tree import DecisionTreeRegressor\n",
    "from sklearn.tree import plot_tree\n",
    "\n",
    "import xgboost as xgb\n",
    "from sklearn.metrics import  mean_squared_error\n",
    "from sklearn.ensemble import RandomForestRegressor\n",
    "\n",
    "from tensorflow import keras\n",
    "from keras.models import Sequential\n",
    "from tensorflow.keras import layers\n",
    "np.random.seed(0)"
   ]
  },
  {
   "cell_type": "code",
   "execution_count": 3,
   "metadata": {},
   "outputs": [],
   "source": [
    "#data_ml = pyreadr.read_r(insert path of data_ml.RData)[\"data_ml\"]\n",
    "data_ml.date = pd.to_datetime(data_ml.date)\n",
    "\n",
    "data_ml = data_ml.loc[(data_ml['date'] > \"1999-12-31\") & (data_ml['date'] < \"2019-01-01\")]\n",
    "data_ml.sort_values(by = ['stock_id','date'], inplace = True)"
   ]
  },
  {
   "cell_type": "markdown",
   "metadata": {},
   "source": [
    "We also copy/paste some chunks from Chapter 2.\n"
   ]
  },
  {
   "cell_type": "code",
   "execution_count": 4,
   "metadata": {},
   "outputs": [],
   "source": [
    "stock_ids = data_ml.stock_id.unique() \n",
    "stock_days = data_ml.stock_id.value_counts().sort_index() \n",
    "stock_ids_short = stock_ids[stock_days.values == max(stock_days.values)]\n",
    "\n",
    "returns_short = data_ml[data_ml['stock_id'].isin(stock_ids_short)][['date','stock_id','R1M_Usd']]\n",
    "returns = returns_short.pivot_table(index=['date'],columns='stock_id',values='R1M_Usd')  \n",
    "features = list(data_ml.columns[2:95]) \n",
    "features_short = [\"Div_Yld\", \"Eps\", \"Mkt_Cap_12M_Usd\", \"Mom_11M_Usd\", \n",
    "                    \"Ocf\", \"Pb\", \"Vol1Y_Usd\"]\n",
    "data_ml['R1M_Usd_C'] = data_ml.R1M_Usd >  data_ml.groupby('date').R1M_Usd.transform('median')\n",
    "data_ml['R12M_Usd_C'] = data_ml.R12M_Usd >  data_ml.groupby('date').R12M_Usd.transform('median')\n",
    "separation_date = dt.strptime(\"2014-01-15\",\"%Y-%m-%d\")\n",
    "training_sample = data_ml[data_ml.date < separation_date]\n",
    "testing_sample = data_ml[data_ml.date  >= separation_date]"
   ]
  },
  {
   "cell_type": "markdown",
   "metadata": {},
   "source": [
    "Ensemble models require several models as inputs. Thus, we need to rebuild four models created in the previous chapters. This is going to take some code and some time. Strangely, for clarity, we gather all of it in just one (too) big chunk.\n"
   ]
  },
  {
   "cell_type": "code",
   "execution_count": 5,
   "metadata": {},
   "outputs": [
    {
     "data": {
      "text/plain": [
       "DecisionTreeRegressor(ccp_alpha=0.0001, max_depth=3, min_samples_leaf=35,\n",
       "                      min_samples_split=800)"
      ]
     },
     "execution_count": 5,
     "metadata": {},
     "output_type": "execute_result"
    }
   ],
   "source": [
    "fit_tree = DecisionTreeRegressor(min_samples_leaf = 35, #The minimum number of samples required to be at a leaf node.change variable 3500 to 35 \n",
    "                                min_samples_split = 800,#The minimum number of samples required to split an internal node. change variable 8000 to 800 \n",
    "                                ccp_alpha = 0.0001,     #Complexity parameter used for Minimal Cost-Complexity Pruning. smaller cp = more leaves\n",
    "                                max_depth = 3)          #The maximum depth of the tree\n",
    "fit_tree.fit(data_ml[features], data_ml.R1M_Usd)"
   ]
  },
  {
   "cell_type": "code",
   "execution_count": 6,
   "metadata": {},
   "outputs": [
    {
     "data": {
      "text/plain": [
       "RandomForestRegressor(bootstrap=False, max_features=30, max_samples=10000,\n",
       "                      min_samples_leaf=250, n_estimators=40)"
      ]
     },
     "execution_count": 6,
     "metadata": {},
     "output_type": "execute_result"
    }
   ],
   "source": [
    "fit_RF = RandomForestRegressor( max_samples = 10000,    #If bootstrap is True, the number of samples to draw from X to train each base estimator.\n",
    "                                bootstrap = False,     #Whether bootstrap samples are used when building trees. If False, the whole dataset is used to build each tree.\n",
    "                                min_samples_leaf= 250,  #The minimum number of samples required to be at a leaf node. \n",
    "                                n_estimators = 40,      #The number of trees in the forest.\n",
    "                                max_features = 30)      #The number of features to consider when looking for the best split:\n",
    "fit_RF.fit(training_sample[features], training_sample.R1M_Usd)"
   ]
  },
  {
   "cell_type": "code",
   "execution_count": 7,
   "metadata": {},
   "outputs": [],
   "source": [
    "top20 = training_sample.R1M_Usd.quantile(0.8) \n",
    "bottom20= training_sample.R1M_Usd.quantile(0.2)\n",
    "train_features = training_sample[training_sample.R1M_Usd>top20]\n",
    "train_features = train_features.append(training_sample[training_sample.R1M_Usd<bottom20])\n",
    "train_features = train_features.sort_values(by=['stock_id','date'])\n",
    "train_features_xgb = train_features[features_short]\n",
    "train_label_xgb = train_features.R1M_Usd\n",
    "mono_const = np.zeros(len(features))\n",
    "mono_const += (np.array(features)=='Mkt_Cap_12M_Usd' ) * -1\n",
    "mono_const += (np.array(features)=='Pb' ) * -1\n",
    "mono_const += (np.array(features)=='Mom_11M_Usd' ) * 1\n",
    "fit_xgb = xgb.XGBRegressor(     \n",
    "              learning_rate  = 0.3,                                                        #Boosting learning rate                 \n",
    "              objective = \"reg:linear\",                                                    #Specify the learning task and the corresponding learning objective or a custom objective function to be used      \n",
    "              max_depth = 4,                                                               #Maximum tree depth for base learners.\n",
    "              reg_lambda = 1,                                                              #L2 regularization term on weights\n",
    "              gamma = 0.1,                                                                 #Minimum loss reduction required to make a further partition on a leaf node of the tree.\n",
    "              n_estimators = 30,                                                           #Number of trees in random forest to fit.\n",
    "              monotone_constraints = '('+','.join(str(int(x)) for x in mono_const) + ')', #Constraint of variable monotonicity. See tutorial for more information.\n",
    "              verbosity  = 0)                                                              #The degree of verbosity\n",
    "\n",
    "fit_xgb.fit(train_features_xgb,train_label_xgb )\n",
    "xgb_test = testing_sample[features_short]"
   ]
  },
  {
   "cell_type": "code",
   "execution_count": 8,
   "metadata": {},
   "outputs": [
    {
     "name": "stdout",
     "output_type": "stream",
     "text": [
      "Epoch 1/10\n",
      "387/387 [==============================] - 1s 1ms/step - loss: 0.0311 - mean_absolute_error: 0.0902 - val_loss: 0.0371 - val_mean_absolute_error: 0.0669\n",
      "Epoch 2/10\n",
      "387/387 [==============================] - 0s 939us/step - loss: 0.0290 - mean_absolute_error: 0.0841 - val_loss: 0.0372 - val_mean_absolute_error: 0.0679\n",
      "Epoch 3/10\n",
      "387/387 [==============================] - 0s 941us/step - loss: 0.0290 - mean_absolute_error: 0.0840 - val_loss: 0.0371 - val_mean_absolute_error: 0.0674\n",
      "Epoch 4/10\n",
      "387/387 [==============================] - 0s 967us/step - loss: 0.0289 - mean_absolute_error: 0.0839 - val_loss: 0.0371 - val_mean_absolute_error: 0.0674\n",
      "Epoch 5/10\n",
      "387/387 [==============================] - 0s 967us/step - loss: 0.0289 - mean_absolute_error: 0.0839 - val_loss: 0.0370 - val_mean_absolute_error: 0.0670\n",
      "Epoch 6/10\n",
      "387/387 [==============================] - 0s 954us/step - loss: 0.0289 - mean_absolute_error: 0.0839 - val_loss: 0.0373 - val_mean_absolute_error: 0.0685\n",
      "Epoch 7/10\n",
      "387/387 [==============================] - 0s 993us/step - loss: 0.0289 - mean_absolute_error: 0.0839 - val_loss: 0.0370 - val_mean_absolute_error: 0.0671\n",
      "Epoch 8/10\n",
      "387/387 [==============================] - 0s 988us/step - loss: 0.0289 - mean_absolute_error: 0.0838 - val_loss: 0.0371 - val_mean_absolute_error: 0.0679\n",
      "Epoch 9/10\n",
      "387/387 [==============================] - 0s 980us/step - loss: 0.0288 - mean_absolute_error: 0.0839 - val_loss: 0.0370 - val_mean_absolute_error: 0.0675\n",
      "Epoch 10/10\n",
      "387/387 [==============================] - 0s 967us/step - loss: 0.0288 - mean_absolute_error: 0.0839 - val_loss: 0.0370 - val_mean_absolute_error: 0.0672\n"
     ]
    }
   ],
   "source": [
    "NN_train_features = training_sample[features]\n",
    "NN_train_labels = training_sample.R1M_Usd\n",
    "NN_test_features = testing_sample[features]\n",
    "NN_test_labels = testing_sample.R1M_Usd\n",
    "model = Sequential()\n",
    "model.add(layers.Dense(16, activation=\"relu\", input_shape = (len(NN_train_features.columns),) ))\n",
    "model.add(layers.Dense(8, activation=\"sigmoid\"))\n",
    "model.add(layers.Dense(1))\n",
    "model.compile(loss='MeanSquaredError',\n",
    "              optimizer='RMSprop',\n",
    "              metrics='MeanAbsoluteError' )\n",
    "fit_NN = model.fit(NN_train_features, NN_train_labels,\n",
    "                  epochs = 10, batch_size = 512,\n",
    "                  validation_data = (NN_test_features, NN_test_labels))\n"
   ]
  },
  {
   "cell_type": "markdown",
   "metadata": {},
   "source": [
    "Then, we can move on to the aggregation.\n"
   ]
  },
  {
   "cell_type": "code",
   "execution_count": 9,
   "metadata": {},
   "outputs": [],
   "source": [
    "err_tree_train = fit_tree.predict(training_sample[features]) - training_sample.R1M_Usd       \n",
    "err_RF_train  = fit_RF.predict(training_sample[features]) - training_sample.R1M_Usd           \n",
    "pred_XGB_train = fit_xgb.predict(train_features_xgb)\n",
    "err_XGB_train = np.append(np.repeat(pred_XGB_train, len(training_sample)//len(pred_XGB_train)),\n",
    "                  pred_XGB_train[:len(training_sample)- len(training_sample)//len(pred_XGB_train)*\n",
    "                                 len(pred_XGB_train)]) \\\n",
    "                - training_sample.R1M_Usd  \n",
    "err_NN_train =  model.predict(NN_train_features).flatten() - training_sample.R1M_Usd                 \n",
    "E = pd.DataFrame({\"err_tree_train\":err_tree_train,\"err_RF_train\":err_RF_train,\n",
    "                  \"err_XGB_train\":err_XGB_train,\"err_NN_train\":err_NN_train})                                                                        "
   ]
  },
  {
   "cell_type": "code",
   "execution_count": 10,
   "metadata": {
    "scrolled": true
   },
   "outputs": [
    {
     "data": {
      "text/html": [
       "<div>\n",
       "<style scoped>\n",
       "    .dataframe tbody tr th:only-of-type {\n",
       "        vertical-align: middle;\n",
       "    }\n",
       "\n",
       "    .dataframe tbody tr th {\n",
       "        vertical-align: top;\n",
       "    }\n",
       "\n",
       "    .dataframe thead th {\n",
       "        text-align: right;\n",
       "    }\n",
       "</style>\n",
       "<table border=\"1\" class=\"dataframe\">\n",
       "  <thead>\n",
       "    <tr style=\"text-align: right;\">\n",
       "      <th></th>\n",
       "      <th>err_tree_train</th>\n",
       "      <th>err_RF_train</th>\n",
       "      <th>err_XGB_train</th>\n",
       "      <th>err_NN_train</th>\n",
       "    </tr>\n",
       "  </thead>\n",
       "  <tbody>\n",
       "    <tr>\n",
       "      <th>err_tree_train</th>\n",
       "      <td>1.000000</td>\n",
       "      <td>0.992657</td>\n",
       "      <td>0.943516</td>\n",
       "      <td>0.993881</td>\n",
       "    </tr>\n",
       "    <tr>\n",
       "      <th>err_RF_train</th>\n",
       "      <td>0.992657</td>\n",
       "      <td>1.000000</td>\n",
       "      <td>0.943599</td>\n",
       "      <td>0.997766</td>\n",
       "    </tr>\n",
       "    <tr>\n",
       "      <th>err_XGB_train</th>\n",
       "      <td>0.943516</td>\n",
       "      <td>0.943599</td>\n",
       "      <td>1.000000</td>\n",
       "      <td>0.945210</td>\n",
       "    </tr>\n",
       "    <tr>\n",
       "      <th>err_NN_train</th>\n",
       "      <td>0.993881</td>\n",
       "      <td>0.997766</td>\n",
       "      <td>0.945210</td>\n",
       "      <td>1.000000</td>\n",
       "    </tr>\n",
       "  </tbody>\n",
       "</table>\n",
       "</div>"
      ],
      "text/plain": [
       "                err_tree_train  err_RF_train  err_XGB_train  err_NN_train\n",
       "err_tree_train        1.000000      0.992657       0.943516      0.993881\n",
       "err_RF_train          0.992657      1.000000       0.943599      0.997766\n",
       "err_XGB_train         0.943516      0.943599       1.000000      0.945210\n",
       "err_NN_train          0.993881      0.997766       0.945210      1.000000"
      ]
     },
     "execution_count": 10,
     "metadata": {},
     "output_type": "execute_result"
    }
   ],
   "source": [
    "E.corr()"
   ]
  },
  {
   "cell_type": "markdown",
   "metadata": {},
   "source": [
    "As is shown by the correlation matrix, the models fail to generate heterogeneity in their predictions. \n"
   ]
  },
  {
   "cell_type": "code",
   "execution_count": 11,
   "metadata": {},
   "outputs": [
    {
     "data": {
      "text/plain": [
       "err_tree_train    0.083680\n",
       "err_RF_train      0.081785\n",
       "err_XGB_train     0.089059\n",
       "err_NN_train      0.083494\n",
       "dtype: float64"
      ]
     },
     "execution_count": 11,
     "metadata": {},
     "output_type": "execute_result"
    }
   ],
   "source": [
    "E.apply(lambda x: abs(x)).mean()"
   ]
  },
  {
   "cell_type": "markdown",
   "metadata": {},
   "source": [
    "The best performing ML engine is the random forest. The boosted tree model is the worst, by far. Below, we compute the optimal (non constrained) weights for the combination of models. \n"
   ]
  },
  {
   "cell_type": "code",
   "execution_count": 12,
   "metadata": {},
   "outputs": [
    {
     "data": {
      "text/plain": [
       "array([-0.08815899,  3.50935503, -0.02895866, -2.39223739])"
      ]
     },
     "execution_count": 12,
     "metadata": {},
     "output_type": "execute_result"
    }
   ],
   "source": [
    "w_ensemble = np.matmul(np.linalg.inv(E.T.dot(E)), np.ones(4))\n",
    "w_ensemble = w_ensemble / sum(w_ensemble)\n",
    "w_ensemble"
   ]
  },
  {
   "cell_type": "markdown",
   "metadata": {},
   "source": [
    "Because of the high correlations, the optimal weights are not balanced and diversified: they load heavily on the random forest learner (best in sample model) and 'short' a few models in order to compensate.\n",
    "\n",
    "Note that the weights are of course computed with **training errors**. The optimal combination is then tested on the testing sample. Below, we compute out-of-sample (testing) errors and their average absolute value."
   ]
  },
  {
   "cell_type": "code",
   "execution_count": 13,
   "metadata": {
    "scrolled": true
   },
   "outputs": [
    {
     "data": {
      "text/plain": [
       "err_tree_test    0.066311\n",
       "err_RF_test      0.067180\n",
       "err_XGB_test     0.071490\n",
       "err_NN_test      0.066015\n",
       "dtype: float64"
      ]
     },
     "execution_count": 13,
     "metadata": {},
     "output_type": "execute_result"
    }
   ],
   "source": [
    "err_tree_test = fit_tree.predict(testing_sample[features]) - testing_sample.R1M_Usd       \n",
    "err_RF_test  = fit_RF.predict(testing_sample[features]) - testing_sample.R1M_Usd           \n",
    "err_XGB_test = fit_xgb.predict(xgb_test) - testing_sample.R1M_Usd  \n",
    "err_NN_test =  model.predict(NN_test_features)[1] - testing_sample.R1M_Usd                 \n",
    "E_test = pd.DataFrame({\"err_tree_test\":err_tree_test,\"err_RF_test\":err_RF_test,\n",
    "                  \"err_XGB_test\":err_XGB_test,\"err_NN_test\":err_NN_test}) \n",
    "E_test.apply(lambda x: abs(x)).mean()"
   ]
  },
  {
   "cell_type": "markdown",
   "metadata": {},
   "source": [
    "The boosted tree model is still the worst performing algorithm while the simple models (regression and simple tree) are the ones that fare the best. The most naive combination is the simple average of model and predictions.\n"
   ]
  },
  {
   "cell_type": "code",
   "execution_count": 14,
   "metadata": {},
   "outputs": [
    {
     "data": {
      "text/plain": [
       "0.0668485811598183"
      ]
     },
     "execution_count": 14,
     "metadata": {},
     "output_type": "execute_result"
    }
   ],
   "source": [
    "err_EW_test = E_test.mean(axis=1).apply(lambda x: abs(x)).mean()\n",
    "err_EW_test"
   ]
  },
  {
   "cell_type": "markdown",
   "metadata": {},
   "source": [
    "Because the errors are very correlated, the equally-weighted combination of forecasts yields an average error which lies 'in the middle' of individual errors. The diversification benefits are too small. Let us now test the 'optimal' combination.\n"
   ]
  },
  {
   "cell_type": "code",
   "execution_count": 15,
   "metadata": {},
   "outputs": [
    {
     "data": {
      "text/plain": [
       "0.019642144394636553"
      ]
     },
     "execution_count": 15,
     "metadata": {},
     "output_type": "execute_result"
    }
   ],
   "source": [
    "err_opt_test = E_test.multiply(w_ensemble,axis=1)\n",
    "err_opt_test.mean(axis=1).apply(lambda x: abs(x)).mean()\n"
   ]
  },
  {
   "cell_type": "markdown",
   "metadata": {},
   "source": [
    "Again, the result is disappointing because of the lack of diversification across models. The correlations between errors are high not only on the training sample, but also on the testing sample, as shown below.\n"
   ]
  },
  {
   "cell_type": "code",
   "execution_count": 16,
   "metadata": {},
   "outputs": [
    {
     "data": {
      "text/html": [
       "<div>\n",
       "<style scoped>\n",
       "    .dataframe tbody tr th:only-of-type {\n",
       "        vertical-align: middle;\n",
       "    }\n",
       "\n",
       "    .dataframe tbody tr th {\n",
       "        vertical-align: top;\n",
       "    }\n",
       "\n",
       "    .dataframe thead th {\n",
       "        text-align: right;\n",
       "    }\n",
       "</style>\n",
       "<table border=\"1\" class=\"dataframe\">\n",
       "  <thead>\n",
       "    <tr style=\"text-align: right;\">\n",
       "      <th></th>\n",
       "      <th>err_tree_test</th>\n",
       "      <th>err_RF_test</th>\n",
       "      <th>err_XGB_test</th>\n",
       "      <th>err_NN_test</th>\n",
       "    </tr>\n",
       "  </thead>\n",
       "  <tbody>\n",
       "    <tr>\n",
       "      <th>err_tree_test</th>\n",
       "      <td>1.000000</td>\n",
       "      <td>0.994076</td>\n",
       "      <td>0.971068</td>\n",
       "      <td>0.997389</td>\n",
       "    </tr>\n",
       "    <tr>\n",
       "      <th>err_RF_test</th>\n",
       "      <td>0.994076</td>\n",
       "      <td>1.000000</td>\n",
       "      <td>0.980279</td>\n",
       "      <td>0.995613</td>\n",
       "    </tr>\n",
       "    <tr>\n",
       "      <th>err_XGB_test</th>\n",
       "      <td>0.971068</td>\n",
       "      <td>0.980279</td>\n",
       "      <td>1.000000</td>\n",
       "      <td>0.970677</td>\n",
       "    </tr>\n",
       "    <tr>\n",
       "      <th>err_NN_test</th>\n",
       "      <td>0.997389</td>\n",
       "      <td>0.995613</td>\n",
       "      <td>0.970677</td>\n",
       "      <td>1.000000</td>\n",
       "    </tr>\n",
       "  </tbody>\n",
       "</table>\n",
       "</div>"
      ],
      "text/plain": [
       "               err_tree_test  err_RF_test  err_XGB_test  err_NN_test\n",
       "err_tree_test       1.000000     0.994076      0.971068     0.997389\n",
       "err_RF_test         0.994076     1.000000      0.980279     0.995613\n",
       "err_XGB_test        0.971068     0.980279      1.000000     0.970677\n",
       "err_NN_test         0.997389     0.995613      0.970677     1.000000"
      ]
     },
     "execution_count": 16,
     "metadata": {},
     "output_type": "execute_result"
    }
   ],
   "source": [
    "E_test.corr()"
   ]
  },
  {
   "cell_type": "markdown",
   "metadata": {},
   "source": [
    "The leverage from the optimal solution only exacerbates the problem and underperforms the heuristic uniform combination. We end this section with the constrained formulation of @breiman1996stacked using the *quadprog* package. If we write $\\mathbf{\\Sigma}$ for the covariance matrix of errors, we seek\n",
    "$$\\mathbf{w}^*=\\underset{\\mathbf{w}}{\\text{argmin}} \\ \\mathbf{w}'\\mathbf{\\Sigma}\\mathbf{w}, \\quad \\mathbf{1}'\\mathbf{w}=1, \\quad w_i\\ge 0,$$\n",
    "\n",
    "The constraints will be handled as:\n",
    "\n",
    "$$\\mathbf{A} \\mathbf{w}= \\begin{bmatrix} \n",
    "1 & 1 & 1 \\\\\n",
    "1 & 0 & 0\\\\\n",
    "0 & 1 & 0 \\\\\n",
    "0 & 0 & 1\n",
    "\\end{bmatrix} \\mathbf{w} \\hspace{9mm} \\text{ compared to} \\hspace{9mm} \\mathbf{b}=\\begin{bmatrix} 1 \\\\ 0 \\\\ 0 \\\\ 0 \\end{bmatrix},  $$\n",
    "\n",
    "where the first line will be an equality (weights sum to one) and the last three will be inequalities (weights are all positive)."
   ]
  },
  {
   "cell_type": "code",
   "execution_count": 17,
   "metadata": {},
   "outputs": [],
   "source": [
    "def solve_qp_scipy(G, a, C, b, meq=0):\n",
    "    # Minimize     1/2 x^T G x - a^T x\n",
    "    # Subject to   C.T x >= b\n",
    "    def f(x):\n",
    "        return 1/2 * np.dot(x, G).dot(x) - np.dot(a, x)\n",
    "    constraints = [{\n",
    "        'type': 'ineq',\n",
    "        'fun': lambda x, C=C, b=b, i=i: (np.dot(C.T, x) - b)[i]\n",
    "    } for i in range(C.shape[1])]\n",
    "\n",
    "    result = scipy.optimize.minimize(\n",
    "        f, x0=np.zeros(len(G)), method='COBYLA', constraints=constraints,\n",
    "        tol=1e-10, options={'maxiter': 2000})\n",
    "    return result"
   ]
  },
  {
   "cell_type": "code",
   "execution_count": 18,
   "metadata": {},
   "outputs": [
    {
     "data": {
      "text/plain": [
       "     fun: 2768.4744088066573\n",
       "   maxcv: -0.0\n",
       " message: 'Optimization terminated successfully.'\n",
       "    nfev: 57\n",
       "  status: 1\n",
       " success: True\n",
       "       x: array([0., 1., 0., 0.])"
      ]
     },
     "execution_count": 18,
     "metadata": {},
     "output_type": "execute_result"
    }
   ],
   "source": [
    "Sigma = E.T.dot(E)\n",
    "nb_mods = len(Sigma)\n",
    "w_const = solve_qp_scipy(G = Sigma,\n",
    "                         a = np.zeros(nb_mods),\n",
    "                         C = np.vstack((np.ones(nb_mods), np.diag(np.ones(nb_mods)))).T,\n",
    "                         b = np.append(np.ones(1), np.zeros(nb_mods))\n",
    "                        )\n",
    "w_const"
   ]
  },
  {
   "cell_type": "markdown",
   "metadata": {},
   "source": [
    "Compared to the unconstrained solution, the weights are sparse and concentrated in one or two models, usually those with small training sample errors. \n",
    "\n",
    "Below, we turn to stacked ensembles. The overarching layer is a neural network."
   ]
  },
  {
   "cell_type": "code",
   "execution_count": 19,
   "metadata": {},
   "outputs": [],
   "source": [
    "model_stack = Sequential()\n",
    "model_stack.add(layers.Dense(8, activation=\"relu\", input_shape = (nb_mods,)  ))\n",
    "model_stack.add(layers.Dense(4, activation=\"tanh\"))\n",
    "model_stack.add(layers.Dense(1))"
   ]
  },
  {
   "cell_type": "markdown",
   "metadata": {},
   "source": [
    "The configuration is very simple. We do not include any optional arguments and hence the model is likely to overfit. As we seek to predict returns, the loss function is the standard $L^2$ norm.\n"
   ]
  },
  {
   "cell_type": "code",
   "execution_count": 20,
   "metadata": {},
   "outputs": [
    {
     "name": "stdout",
     "output_type": "stream",
     "text": [
      "Model: \"sequential_1\"\n",
      "_________________________________________________________________\n",
      "Layer (type)                 Output Shape              Param #   \n",
      "=================================================================\n",
      "dense_3 (Dense)              (None, 8)                 40        \n",
      "_________________________________________________________________\n",
      "dense_4 (Dense)              (None, 4)                 36        \n",
      "_________________________________________________________________\n",
      "dense_5 (Dense)              (None, 1)                 5         \n",
      "=================================================================\n",
      "Total params: 81\n",
      "Trainable params: 81\n",
      "Non-trainable params: 0\n",
      "_________________________________________________________________\n"
     ]
    }
   ],
   "source": [
    "model_stack.compile(loss='MeanSquaredError',# Loss function\n",
    "              optimizer='RMSprop',          # Optimisation method (weight updating)\n",
    "              metrics='MeanAbsoluteError' ) # Output metric\n",
    "model_stack.summary()"
   ]
  },
  {
   "cell_type": "code",
   "execution_count": 21,
   "metadata": {
    "scrolled": false
   },
   "outputs": [
    {
     "name": "stdout",
     "output_type": "stream",
     "text": [
      "Epoch 1/12\n",
      "387/387 [==============================] - 0s 843us/step - loss: 0.0283 - mean_absolute_error: 0.0826 - val_loss: 0.0372 - val_mean_absolute_error: 0.0677\n",
      "Epoch 2/12\n",
      "387/387 [==============================] - 0s 628us/step - loss: 0.0276 - mean_absolute_error: 0.0819 - val_loss: 0.0375 - val_mean_absolute_error: 0.0696\n",
      "Epoch 3/12\n",
      "387/387 [==============================] - 0s 613us/step - loss: 0.0274 - mean_absolute_error: 0.0816 - val_loss: 0.0380 - val_mean_absolute_error: 0.0712\n",
      "Epoch 4/12\n",
      "387/387 [==============================] - 0s 623us/step - loss: 0.0272 - mean_absolute_error: 0.0814 - val_loss: 0.0382 - val_mean_absolute_error: 0.0720\n",
      "Epoch 5/12\n",
      "387/387 [==============================] - 0s 613us/step - loss: 0.0271 - mean_absolute_error: 0.0812 - val_loss: 0.0387 - val_mean_absolute_error: 0.0739\n",
      "Epoch 6/12\n",
      "387/387 [==============================] - 0s 616us/step - loss: 0.0271 - mean_absolute_error: 0.0812 - val_loss: 0.0389 - val_mean_absolute_error: 0.0742\n",
      "Epoch 7/12\n",
      "387/387 [==============================] - 0s 616us/step - loss: 0.0271 - mean_absolute_error: 0.0811 - val_loss: 0.0395 - val_mean_absolute_error: 0.0764\n",
      "Epoch 8/12\n",
      "387/387 [==============================] - 0s 616us/step - loss: 0.0271 - mean_absolute_error: 0.0811 - val_loss: 0.0395 - val_mean_absolute_error: 0.0765\n",
      "Epoch 9/12\n",
      "387/387 [==============================] - 0s 623us/step - loss: 0.0270 - mean_absolute_error: 0.0811 - val_loss: 0.0393 - val_mean_absolute_error: 0.0757\n",
      "Epoch 10/12\n",
      "387/387 [==============================] - 0s 613us/step - loss: 0.0270 - mean_absolute_error: 0.0811 - val_loss: 0.0396 - val_mean_absolute_error: 0.0766\n",
      "Epoch 11/12\n",
      "387/387 [==============================] - 0s 621us/step - loss: 0.0270 - mean_absolute_error: 0.0811 - val_loss: 0.0399 - val_mean_absolute_error: 0.0775\n",
      "Epoch 12/12\n",
      "387/387 [==============================] - 0s 647us/step - loss: 0.0270 - mean_absolute_error: 0.0811 - val_loss: 0.0397 - val_mean_absolute_error: 0.0768\n"
     ]
    }
   ],
   "source": [
    "y_tilde = E + np.tile(training_sample.R1M_Usd,(nb_mods,1)).T\n",
    "y_test = E_test+ np.tile(testing_sample.R1M_Usd,(nb_mods,1)).T\n",
    "\n",
    "fit_NN = model_stack.fit(y_tilde,                                             # Training features\n",
    "                   training_sample.R1M_Usd,                             # Training labels\n",
    "                  epochs = 12, batch_size = 512,                        # Training parameters           \n",
    "                  validation_data = (y_test, testing_sample.R1M_Usd)  # Test data\n",
    "                  )"
   ]
  },
  {
   "cell_type": "code",
   "execution_count": 22,
   "metadata": {},
   "outputs": [
    {
     "data": {
      "text/plain": [
       "<matplotlib.legend.Legend at 0x243686db2b0>"
      ]
     },
     "execution_count": 22,
     "metadata": {},
     "output_type": "execute_result"
    },
    {
     "data": {
      "image/png": "[encoded data removed]",
      "text/plain": [
       "<Figure size 432x288 with 2 Axes>"
      ]
     },
     "metadata": {
      "needs_background": "light"
     },
     "output_type": "display_data"
    }
   ],
   "source": [
    "plt.subplot(2,1,1)\n",
    "plt.plot(fit_NN.history['loss'])\n",
    "plt.plot(fit_NN.history['val_loss'])\n",
    "plt.ylabel('loss')\n",
    "plt.xlabel('epoch')\n",
    "plt.legend(['training', 'validation'], loc='upper right')\n",
    "\n",
    "plt.subplot(2,1,2)\n",
    "plt.plot(fit_NN.history['mean_absolute_error'])\n",
    "plt.plot(fit_NN.history['val_mean_absolute_error'])\n",
    "plt.ylabel('mean_absolute_error')\n",
    "plt.xlabel('epoch')\n",
    "plt.legend(['training', 'validation'], loc='upper right')"
   ]
  },
  {
   "cell_type": "markdown",
   "metadata": {},
   "source": [
    "One alternative outside the perimeter of ensembles is to train simple trees on a set of macroeconomic indicators. We test this idea below, using aggregate data from the Federal Reserve of Saint Louis. A simple downloading function is available in the *quandl* package. We download and format the data in the next chunk. CPIAUCSL is a code for consumer price index and T10Y2YM is a code for the term spread (10Y minus 2Y).\n",
    "To use quandl, you have to get api key. To do this, you sign up \"https://www.quandl.com/\", then you can check your api in the account page."
   ]
  },
  {
   "cell_type": "code",
   "execution_count": 23,
   "metadata": {},
   "outputs": [],
   "source": [
    "quandl.ApiConfig.api_key = \"inpuy your key\"\n",
    "cpi = quandl.get(\"FRED/CPIAUCSL\")\n",
    "cpi['inflation'] = cpi /cpi.shift(periods=1) - 1\n",
    "cpi = cpi.rename(columns={\"Value\":\"CPIAUCSL\"})\n",
    "cpi.index = cpi.index.rename(\"Index\")\n",
    "\n",
    "ts = quandl.get(\"FRED/T10Y2YM\")\n",
    "ts = ts.rename(columns={\"Value\":\"termspread\"})\n",
    "ts.index = ts.index.rename(\"Index\")"
   ]
  },
  {
   "cell_type": "code",
   "execution_count": 24,
   "metadata": {},
   "outputs": [
    {
     "data": {
      "text/html": [
       "<div>\n",
       "<style scoped>\n",
       "    .dataframe tbody tr th:only-of-type {\n",
       "        vertical-align: middle;\n",
       "    }\n",
       "\n",
       "    .dataframe tbody tr th {\n",
       "        vertical-align: top;\n",
       "    }\n",
       "\n",
       "    .dataframe thead th {\n",
       "        text-align: right;\n",
       "    }\n",
       "</style>\n",
       "<table border=\"1\" class=\"dataframe\">\n",
       "  <thead>\n",
       "    <tr style=\"text-align: right;\">\n",
       "      <th></th>\n",
       "      <th>date</th>\n",
       "      <th>err_NN_test</th>\n",
       "      <th>Index</th>\n",
       "      <th>CPIAUCSL</th>\n",
       "      <th>inflation</th>\n",
       "      <th>termspread</th>\n",
       "    </tr>\n",
       "  </thead>\n",
       "  <tbody>\n",
       "    <tr>\n",
       "      <th>244677</th>\n",
       "      <td>2014-01-31</td>\n",
       "      <td>-0.148263</td>\n",
       "      <td>2014-01-01</td>\n",
       "      <td>235.288</td>\n",
       "      <td>0.002424</td>\n",
       "      <td>2.47</td>\n",
       "    </tr>\n",
       "    <tr>\n",
       "      <th>244678</th>\n",
       "      <td>2014-02-28</td>\n",
       "      <td>0.074737</td>\n",
       "      <td>2014-02-01</td>\n",
       "      <td>235.547</td>\n",
       "      <td>0.001101</td>\n",
       "      <td>2.38</td>\n",
       "    </tr>\n",
       "    <tr>\n",
       "      <th>239053</th>\n",
       "      <td>2014-03-31</td>\n",
       "      <td>-0.018263</td>\n",
       "      <td>2014-03-01</td>\n",
       "      <td>236.028</td>\n",
       "      <td>0.002042</td>\n",
       "      <td>2.32</td>\n",
       "    </tr>\n",
       "    <tr>\n",
       "      <th>239054</th>\n",
       "      <td>2014-04-30</td>\n",
       "      <td>-0.082263</td>\n",
       "      <td>2014-04-01</td>\n",
       "      <td>236.468</td>\n",
       "      <td>0.001864</td>\n",
       "      <td>2.29</td>\n",
       "    </tr>\n",
       "    <tr>\n",
       "      <th>239055</th>\n",
       "      <td>2014-05-31</td>\n",
       "      <td>-0.089263</td>\n",
       "      <td>2014-05-01</td>\n",
       "      <td>236.918</td>\n",
       "      <td>0.001903</td>\n",
       "      <td>2.17</td>\n",
       "    </tr>\n",
       "  </tbody>\n",
       "</table>\n",
       "</div>"
      ],
      "text/plain": [
       "             date  err_NN_test      Index  CPIAUCSL  inflation  termspread\n",
       "244677 2014-01-31    -0.148263 2014-01-01   235.288   0.002424        2.47\n",
       "244678 2014-02-28     0.074737 2014-02-01   235.547   0.001101        2.38\n",
       "239053 2014-03-31    -0.018263 2014-03-01   236.028   0.002042        2.32\n",
       "239054 2014-04-30    -0.082263 2014-04-01   236.468   0.001864        2.29\n",
       "239055 2014-05-31    -0.089263 2014-05-01   236.918   0.001903        2.17"
      ]
     },
     "execution_count": 24,
     "metadata": {},
     "output_type": "execute_result"
    }
   ],
   "source": [
    "ens_data = testing_sample[['date']].join(err_NN_test)\n",
    "ens_data['Index'] = ens_data.date.apply(lambda x: x.replace(day=1))\n",
    "ens_data = pd.merge(ens_data, cpi, left_on='Index', right_index=True,how='left')\n",
    "ens_data = pd.merge(ens_data, ts, left_on='Index', right_index=True,how='left')\n",
    "ens_data = ens_data.rename(columns={\"R1M_Usd\":\"err_NN_test\"})\n",
    "ens_data.head()"
   ]
  },
  {
   "cell_type": "markdown",
   "metadata": {},
   "source": [
    "We can now build a tree that tries to explain the accuracy of models as a function of macro variables.\n"
   ]
  },
  {
   "cell_type": "code",
   "execution_count": 25,
   "metadata": {},
   "outputs": [
    {
     "data": {
      "image/png": "[encoded data removed]",
      "text/plain": [
       "<Figure size 432x288 with 1 Axes>"
      ]
     },
     "metadata": {
      "needs_background": "light"
     },
     "output_type": "display_data"
    }
   ],
   "source": [
    "fit_ens = DecisionTreeRegressor(ccp_alpha = 0.0001,     #Complexity parameter used for Minimal Cost-Complexity Pruning. smaller cp = more leaves\n",
    "                                ) \n",
    "fit_ens.fit(ens_data[['inflation','termspread']], err_NN_test)\n",
    "_ = plot_tree(fit_ens, \n",
    "                   feature_names=features,  \n",
    "                   class_names=data_ml.R1M_Usd,\n",
    "                   filled=True)"
   ]
  },
  {
   "cell_type": "markdown",
   "metadata": {},
   "source": [
    "Finally, we train four models on four different years to see if this help reduce the inter-model correlations. This process is a bit lengthy because the samples and models need to be all redefined. We start by creating the four training samples. The third model works on the small subset of features, hence the sample is smaller.\n"
   ]
  },
  {
   "cell_type": "code",
   "execution_count": 26,
   "metadata": {},
   "outputs": [],
   "source": [
    "training_sample_2009 = training_sample[(training_sample.date > \"2008-12-31\") & \n",
    "                                       (training_sample.date < \"2010-01-01\") ]\n",
    "training_sample_2011 = training_sample[(training_sample.date > \"2010-12-31\") & \n",
    "                                       (training_sample.date < \"2012-01-01\") ]\n",
    "training_sample_2013 = training_sample[(training_sample.date > \"2012-12-31\") & \n",
    "                                       (training_sample.date < \"2014-01-01\") ]"
   ]
  },
  {
   "cell_type": "markdown",
   "metadata": {},
   "source": [
    "Then, we proceed to the training of the models. The syntaxes are those used in the previous chapters, nothing new here. We start with a random forest. In all predictions below, the original testing sample is used *for all models*.\n"
   ]
  },
  {
   "cell_type": "code",
   "execution_count": 27,
   "metadata": {},
   "outputs": [],
   "source": [
    "fit_ens_2009 = RandomForestRegressor( max_samples = 4000,    #If bootstrap is True, the number of samples to draw from X to train each base estimator.\n",
    "                                      bootstrap = True,     #Whether bootstrap samples are used when building trees. If False, the whole dataset is used to build each tree.\n",
    "                                      min_samples_leaf= 100,  #The minimum number of samples required to be at a leaf node. \n",
    "                                      n_estimators = 40,      #The number of trees in the forest.\n",
    "                                      max_features = 30)      #The number of features to consider when looking for the best split:\n",
    "fit_ens_2009.fit(training_sample_2009[features], training_sample_2009.R1M_Usd)\n",
    "err_ens_2009 = fit_ens_2009.predict(testing_sample[features]) - testing_sample.R1M_Usd"
   ]
  },
  {
   "cell_type": "markdown",
   "metadata": {},
   "source": [
    "The second model is a boosted tree.\n"
   ]
  },
  {
   "cell_type": "code",
   "execution_count": 28,
   "metadata": {},
   "outputs": [],
   "source": [
    "train_features_2011 = training_sample_2011[features_short]\n",
    "train_label_2011 = training_sample_2011.R1M_Usd\n",
    "fit_ens_2011 = xgb.XGBRegressor(     \n",
    "              learning_rate  = 0.4,                                                        #Boosting learning rate                 \n",
    "              objective = \"reg:linear\",                                                    #Specify the learning task and the corresponding learning objective or a custom objective function to be used      \n",
    "              max_depth = 4,                                                               #Maximum tree depth for base learners.\n",
    "              n_estimators = 18                                                           #Number of trees in random forest to fit\n",
    "                )                                                             \n",
    "fit_ens_2011.fit(train_features_2011,train_label_2011 )\n",
    "err_ens_2011 = fit_ens_2011.predict(xgb_test) -  testing_sample.R1M_Usd "
   ]
  },
  {
   "cell_type": "markdown",
   "metadata": {},
   "source": [
    "Finally, the last model is a simple neural network.\n"
   ]
  },
  {
   "cell_type": "code",
   "execution_count": 29,
   "metadata": {},
   "outputs": [
    {
     "name": "stdout",
     "output_type": "stream",
     "text": [
      "Epoch 1/9\n",
      "112/112 [==============================] - 0s 572us/step - loss: 0.0168 - mean_absolute_error: 0.0891\n",
      "Epoch 2/9\n",
      "112/112 [==============================] - 0s 518us/step - loss: 0.0075 - mean_absolute_error: 0.0615\n",
      "Epoch 3/9\n",
      "112/112 [==============================] - 0s 518us/step - loss: 0.0073 - mean_absolute_error: 0.0604\n",
      "Epoch 4/9\n",
      "112/112 [==============================] - 0s 518us/step - loss: 0.0073 - mean_absolute_error: 0.0601\n",
      "Epoch 5/9\n",
      "112/112 [==============================] - 0s 509us/step - loss: 0.0072 - mean_absolute_error: 0.0596\n",
      "Epoch 6/9\n",
      "112/112 [==============================] - 0s 536us/step - loss: 0.0072 - mean_absolute_error: 0.0593\n",
      "Epoch 7/9\n",
      "112/112 [==============================] - 0s 518us/step - loss: 0.0071 - mean_absolute_error: 0.0593\n",
      "Epoch 8/9\n",
      "112/112 [==============================] - 0s 518us/step - loss: 0.0071 - mean_absolute_error: 0.0592\n",
      "Epoch 9/9\n",
      "112/112 [==============================] - 0s 527us/step - loss: 0.0071 - mean_absolute_error: 0.0591\n"
     ]
    }
   ],
   "source": [
    "NN_features_2013 = training_sample_2013[features]\n",
    "NN_labels_2013 = training_sample_2013.R1M_Usd\n",
    "model = Sequential()\n",
    "\n",
    "model.add(layers.Dense(16, activation=\"relu\", input_shape = (len(NN_features_2013.columns),) ))\n",
    "model.add(layers.Dense(8, activation=\"tanh\"))\n",
    "model.add(layers.Dense(1))\n",
    "model.compile(loss='MeanSquaredError',\n",
    "              optimizer='RMSprop',\n",
    "              metrics='MeanAbsoluteError' )\n",
    "model_ens_2013 = model.fit(NN_features_2013, NN_labels_2013,\n",
    "                  epochs = 9, batch_size = 128)\n",
    "err_ens_2013 = model.predict(NN_test_features)[1] - testing_sample.R1M_Usd\n"
   ]
  },
  {
   "cell_type": "markdown",
   "metadata": {},
   "source": [
    "Endowed with the errors of the three models, we can compute their correlation matrix."
   ]
  },
  {
   "cell_type": "code",
   "execution_count": 30,
   "metadata": {},
   "outputs": [
    {
     "data": {
      "text/html": [
       "<div>\n",
       "<style scoped>\n",
       "    .dataframe tbody tr th:only-of-type {\n",
       "        vertical-align: middle;\n",
       "    }\n",
       "\n",
       "    .dataframe tbody tr th {\n",
       "        vertical-align: top;\n",
       "    }\n",
       "\n",
       "    .dataframe thead th {\n",
       "        text-align: right;\n",
       "    }\n",
       "</style>\n",
       "<table border=\"1\" class=\"dataframe\">\n",
       "  <thead>\n",
       "    <tr style=\"text-align: right;\">\n",
       "      <th></th>\n",
       "      <th>err_ens_2009</th>\n",
       "      <th>err_ens_2011</th>\n",
       "      <th>err_ens_2013</th>\n",
       "    </tr>\n",
       "  </thead>\n",
       "  <tbody>\n",
       "    <tr>\n",
       "      <th>err_ens_2009</th>\n",
       "      <td>1.000000</td>\n",
       "      <td>0.641060</td>\n",
       "      <td>0.980153</td>\n",
       "    </tr>\n",
       "    <tr>\n",
       "      <th>err_ens_2011</th>\n",
       "      <td>0.641060</td>\n",
       "      <td>1.000000</td>\n",
       "      <td>0.646009</td>\n",
       "    </tr>\n",
       "    <tr>\n",
       "      <th>err_ens_2013</th>\n",
       "      <td>0.980153</td>\n",
       "      <td>0.646009</td>\n",
       "      <td>1.000000</td>\n",
       "    </tr>\n",
       "  </tbody>\n",
       "</table>\n",
       "</div>"
      ],
      "text/plain": [
       "              err_ens_2009  err_ens_2011  err_ens_2013\n",
       "err_ens_2009      1.000000      0.641060      0.980153\n",
       "err_ens_2011      0.641060      1.000000      0.646009\n",
       "err_ens_2013      0.980153      0.646009      1.000000"
      ]
     },
     "execution_count": 30,
     "metadata": {},
     "output_type": "execute_result"
    }
   ],
   "source": [
    "E_subtraining = pd.DataFrame({'err_ens_2009':err_ens_2009, 'err_ens_2011':err_ens_2011,'err_ens_2013': err_ens_2013})\n",
    "E_subtraining.corr()"
   ]
  },
  {
   "cell_type": "code",
   "execution_count": null,
   "metadata": {},
   "outputs": [],
   "source": []
  }
 ],
 "metadata": {
  "kernelspec": {
   "display_name": "Python 3",
   "language": "python",
   "name": "python3"
  },
  "language_info": {
   "codemirror_mode": {
    "name": "ipython",
    "version": 3
   },
   "file_extension": ".py",
   "mimetype": "text/x-python",
   "name": "python",
   "nbconvert_exporter": "python",
   "pygments_lexer": "ipython3",
   "version": "3.6.10"
  }
 },
 "nbformat": 4,
 "nbformat_minor": 4
}
