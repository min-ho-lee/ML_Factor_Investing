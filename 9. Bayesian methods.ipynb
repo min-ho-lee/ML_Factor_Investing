{
 "cells": [
  {
   "cell_type": "markdown",
   "metadata": {},
   "source": [
    "# 9. Bayesian methods"
   ]
  },
  {
   "cell_type": "markdown",
   "metadata": {},
   "source": [
    "The first step is to activate the packages and load the data."
   ]
  },
  {
   "cell_type": "code",
   "execution_count": 1,
   "metadata": {},
   "outputs": [],
   "source": [
    "import pyreadr \n",
    "import pandas as pd\n",
    "import numpy as np\n",
    "import matplotlib.pyplot as plt\n",
    "%matplotlib inline\n",
    "from datetime import datetime as dt\n",
    "import sklearn\n",
    "\n",
    "\n",
    "from plotnine import *\n",
    "from plotnine.data import *\n",
    "import seaborn as sns###설치\n",
    "from scipy import stats\n",
    "from sklearn.naive_bayes import GaussianNB\n",
    "from sklearn.linear_model import BayesianRidge"
   ]
  },
  {
   "cell_type": "code",
   "execution_count": 3,
   "metadata": {},
   "outputs": [],
   "source": [
    "#data_ml = pyreadr.read_r(insert path of data_ml.RData)[\"data_ml\"]\n",
    "data_ml.date = pd.to_datetime(data_ml.date)\n",
    "\n",
    "data_ml = data_ml.loc[(data_ml['date'] > \"1999-12-31\") & (data_ml['date'] < \"2019-01-01\")]\n",
    "data_ml.sort_values(by = ['stock_id','date'], inplace = True)"
   ]
  },
  {
   "cell_type": "markdown",
   "metadata": {},
   "source": [
    "We also copy/paste some chunks from Chapter 2.\n"
   ]
  },
  {
   "cell_type": "code",
   "execution_count": 4,
   "metadata": {},
   "outputs": [],
   "source": [
    "stock_ids = data_ml.stock_id.unique() \n",
    "stock_days = data_ml.stock_id.value_counts().sort_index() \n",
    "stock_ids_short = stock_ids[stock_days.values == max(stock_days.values)]\n",
    "\n",
    "returns_short = data_ml[data_ml['stock_id'].isin(stock_ids_short)][['date','stock_id','R1M_Usd']]\n",
    "returns = returns_short.pivot_table(index=['date'],columns='stock_id',values='R1M_Usd')  \n",
    "features = list(data_ml.columns[2:95]) \n",
    "features_short = [\"Div_Yld\", \"Eps\", \"Mkt_Cap_12M_Usd\", \"Mom_11M_Usd\", \n",
    "                    \"Ocf\", \"Pb\", \"Vol1Y_Usd\"]\n",
    "data_ml['R1M_Usd_C'] = data_ml.R1M_Usd >  data_ml.groupby('date').R1M_Usd.transform('median')\n",
    "data_ml['R12M_Usd_C'] = data_ml.R12M_Usd >  data_ml.groupby('date').R12M_Usd.transform('median')\n",
    "separation_date = dt.strptime(\"2014-01-15\",\"%Y-%m-%d\")\n",
    "training_sample = data_ml[data_ml.date < separation_date]\n",
    "testing_sample = data_ml[data_ml.date  >= separation_date]"
   ]
  },
  {
   "cell_type": "markdown",
   "metadata": {},
   "source": [
    "First, We move towards naive Bayes classifiers."
   ]
  },
  {
   "cell_type": "code",
   "execution_count": 15,
   "metadata": {},
   "outputs": [
    {
     "data": {
      "text/plain": [
       "GaussianNB(priors=None, var_smoothing=1e-09)"
      ]
     },
     "execution_count": 15,
     "metadata": {},
     "output_type": "execute_result"
    }
   ],
   "source": [
    "gauss_features_train = training_sample[features_short]\n",
    "gauss_features_train *= 0.999 # Features smaller than 1\n",
    "gauss_features_train += 0.0001 # Features larger than 0\n",
    "gauss_features_train = stats.norm.ppf(gauss_features_train)  # Inverse Gaussian cdf\n",
    "\n",
    "fit_NB_gauss = GaussianNB()\n",
    "fit_NB_gauss.fit(gauss_features_train, training_sample.R1M_Usd_C)"
   ]
  },
  {
   "cell_type": "code",
   "execution_count": 16,
   "metadata": {},
   "outputs": [
    {
     "name": "stdout",
     "output_type": "stream",
     "text": [
      "Hit ratio: 0.4956984958979034\n"
     ]
    }
   ],
   "source": [
    "gauss_features_test = testing_sample[features_short]\n",
    "gauss_features_test *= 0.999 \n",
    "gauss_features_test += 0.0001 \n",
    "gauss_features_test = stats.norm.ppf(gauss_features_test)  \n",
    "\n",
    "print(\"Hit ratio:\", (fit_NB_gauss.predict(gauss_features_test )  == testing_sample.R1M_Usd_C ).mean())"
   ]
  },
  {
   "cell_type": "markdown",
   "metadata": {},
   "source": [
    "Finally, we end with Bayesian additive trees\n",
    "To do this, you should download barpy library detained in \n",
    "\n",
    "https://github.com/JakeColtman/bartpy"
   ]
  },
  {
   "cell_type": "code",
   "execution_count": 17,
   "metadata": {},
   "outputs": [],
   "source": [
    "from bartpy.sklearnmodel import SklearnModel"
   ]
  },
  {
   "cell_type": "markdown",
   "metadata": {},
   "source": [
    "Once the model is trained, we evaluated its performance. We simply compute the hit ratio. \n"
   ]
  },
  {
   "cell_type": "code",
   "execution_count": 18,
   "metadata": {},
   "outputs": [
    {
     "data": {
      "text/plain": [
       "SklearnModel(alpha=0.95, beta=2, initializer=None, n_burn=100, n_chains=4,\n",
       "             n_jobs=-1, n_samples=200, n_trees=20, sigma_a=0.001, sigma_b=0.001,\n",
       "             store_acceptance_trace=False, store_in_sample_predictions=False,\n",
       "             thin=0.1,\n",
       "             tree_sampler=<bartpy.samplers.unconstrainedtree.treemutation.UnconstrainedTreeMutationSampler object at 0x000002572761AD68>)"
      ]
     },
     "execution_count": 18,
     "metadata": {},
     "output_type": "execute_result"
    }
   ],
   "source": [
    "fit_bart = SklearnModel(\n",
    "                        n_trees=20,       # Number of trees in the model \n",
    "                        n_burn=100,       # Size of burn-in sample\n",
    "                        n_samples=200,    # Number of posteriors drawn\n",
    "                        beta=2,           # beta in the tree structure prior\n",
    "                        alpha=0.95 )      # alpha in the tree structure prior\n",
    "fit_bart.fit(training_sample[features_short][:100000], training_sample.R1M_Usd[:100000]) #shorten the training sample to avoid shutting down"
   ]
  },
  {
   "cell_type": "markdown",
   "metadata": {},
   "source": [
    "Once the model is trained,^[In the case of BARTs, the training is consists exactly in the drawing of posterior samples.] we evaluated its performance. We simply compute the hit ratio. The predictions are embedded within the fit variable, under the name '*yhat.test*'."
   ]
  },
  {
   "cell_type": "code",
   "execution_count": 19,
   "metadata": {},
   "outputs": [
    {
     "name": "stdout",
     "output_type": "stream",
     "text": [
      "Hit ratio: 0.5460346399270738\n"
     ]
    }
   ],
   "source": [
    "print(\"Hit ratio:\", (fit_bart.predict(testing_sample[features_short])* testing_sample.R1M_Usd > 0).mean())"
   ]
  },
  {
   "cell_type": "code",
   "execution_count": null,
   "metadata": {},
   "outputs": [],
   "source": []
  }
 ],
 "metadata": {
  "kernelspec": {
   "display_name": "Python 3",
   "language": "python",
   "name": "python3"
  },
  "language_info": {
   "codemirror_mode": {
    "name": "ipython",
    "version": 3
   },
   "file_extension": ".py",
   "mimetype": "text/x-python",
   "name": "python",
   "nbconvert_exporter": "python",
   "pygments_lexer": "ipython3",
   "version": "3.6.10"
  }
 },
 "nbformat": 4,
 "nbformat_minor": 4
}
