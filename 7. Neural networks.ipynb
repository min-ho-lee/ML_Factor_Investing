{
 "cells": [
  {
   "cell_type": "markdown",
   "metadata": {},
   "source": [
    "# 7. Neural networks"
   ]
  },
  {
   "cell_type": "markdown",
   "metadata": {},
   "source": [
    "The first step is to activate the packages and load the data."
   ]
  },
  {
   "cell_type": "code",
   "execution_count": 1,
   "metadata": {},
   "outputs": [],
   "source": [
    "import pyreadr\n",
    "import statsmodels\n",
    "import pandas as pd\n",
    "import numpy as np\n",
    "import matplotlib.pyplot as plt\n",
    "%matplotlib inline\n",
    "from datetime import datetime as dt\n",
    "from sklearn.linear_model import LinearRegression \n",
    "from tensorflow import keras\n",
    "from keras.models import Sequential\n",
    "from tensorflow.keras import layers\n",
    "from keras.layers import Dropout\n",
    "import tensorflow as tf\n",
    "from sklearn.cluster import KMeans\n",
    "np.random.seed(0)"
   ]
  },
  {
   "cell_type": "code",
   "execution_count": 3,
   "metadata": {},
   "outputs": [],
   "source": [
    "#data_ml = pyreadr.read_r(insert path of data_ml.RData)[\"data_ml\"]\n",
    "data_ml.date = pd.to_datetime(data_ml.date)\n",
    "\n",
    "data_ml = data_ml.loc[(data_ml['date'] > \"1999-12-31\") & (data_ml['date'] < \"2019-01-01\")]\n",
    "data_ml.sort_values(by = ['stock_id','date'], inplace = True)"
   ]
  },
  {
   "cell_type": "markdown",
   "metadata": {},
   "source": [
    "We also copy/paste some chunks from Chapter 2.\n"
   ]
  },
  {
   "cell_type": "code",
   "execution_count": 4,
   "metadata": {},
   "outputs": [],
   "source": [
    "stock_ids = data_ml.stock_id.unique() \n",
    "stock_days = data_ml.stock_id.value_counts().sort_index() \n",
    "stock_ids_short = stock_ids[stock_days.values == max(stock_days.values)]\n",
    "\n",
    "returns_short = data_ml[data_ml['stock_id'].isin(stock_ids_short)][['date','stock_id','R1M_Usd']]\n",
    "returns = returns_short.pivot_table(index=['date'],columns='stock_id',values='R1M_Usd')  \n",
    "features = list(data_ml.columns[2:95]) \n",
    "features_short = [\"Div_Yld\", \"Eps\", \"Mkt_Cap_12M_Usd\", \"Mom_11M_Usd\", \n",
    "                    \"Ocf\", \"Pb\", \"Vol1Y_Usd\"]\n",
    "data_ml['R1M_Usd_C'] = data_ml.R1M_Usd >  data_ml.groupby('date').R1M_Usd.transform('median')\n",
    "data_ml['R12M_Usd_C'] = data_ml.R12M_Usd >  data_ml.groupby('date').R12M_Usd.transform('median')\n",
    "separation_date = dt.strptime(\"2014-01-15\",\"%Y-%m-%d\")\n",
    "training_sample = data_ml[data_ml.date < separation_date]\n",
    "testing_sample = data_ml[data_ml.date  >= separation_date]"
   ]
  },
  {
   "cell_type": "markdown",
   "metadata": {},
   "source": [
    "Before we head to the core of the NN, a short stage of data preparation is required. The data must be sorted into four parts which are the combination of two dichotomies: training versus testing and labels versus features. We define the corresponding variables below. For simplicity, the first example is a regression exercise. A classification task will be detailed below.\n"
   ]
  },
  {
   "cell_type": "code",
   "execution_count": 5,
   "metadata": {
    "scrolled": true
   },
   "outputs": [],
   "source": [
    "NN_train_features = training_sample[features]\n",
    "NN_train_labels = training_sample.R1M_Usd\n",
    "NN_test_features = testing_sample[features]\n",
    "NN_test_labels = testing_sample.R1M_Usd"
   ]
  },
  {
   "cell_type": "markdown",
   "metadata": {},
   "source": [
    "Starting from now, we work with the package *keras* which is an adaptation of the Python framework of the same name. You must therefore have a recent version of Python installed.\n"
   ]
  },
  {
   "cell_type": "code",
   "execution_count": 6,
   "metadata": {},
   "outputs": [],
   "source": [
    "model = Sequential()\n",
    "model.add(layers.Dense(16, activation=\"relu\", input_shape = (len(NN_train_features.columns),) ))\n",
    "model.add(layers.Dense(8, activation=\"sigmoid\"))\n",
    "model.add(layers.Dense(1))\n"
   ]
  },
  {
   "cell_type": "markdown",
   "metadata": {},
   "source": [
    "Each layer depends on two parameters: the number of layers and the activation function that is applied to the output of the layer. One important point is the input_shape parameter for the first layer. It is required for the first layer and is equal to the number of features. For the subsequent layers, the input_shape is dictated by the number of units of the previous layer; hence it is not required. The activations that are currently available are listed on https://keras.io/activations/. \n"
   ]
  },
  {
   "cell_type": "code",
   "execution_count": 7,
   "metadata": {},
   "outputs": [
    {
     "name": "stdout",
     "output_type": "stream",
     "text": [
      "Model: \"sequential\"\n",
      "_________________________________________________________________\n",
      "Layer (type)                 Output Shape              Param #   \n",
      "=================================================================\n",
      "dense (Dense)                (None, 16)                1504      \n",
      "_________________________________________________________________\n",
      "dense_1 (Dense)              (None, 8)                 136       \n",
      "_________________________________________________________________\n",
      "dense_2 (Dense)              (None, 1)                 9         \n",
      "=================================================================\n",
      "Total params: 1,649\n",
      "Trainable params: 1,649\n",
      "Non-trainable params: 0\n",
      "_________________________________________________________________\n"
     ]
    }
   ],
   "source": [
    "model.compile(loss='MeanSquaredError',      # Loss function\n",
    "              optimizer='RMSprop',          # Optimisation method (weight updating)\n",
    "              metrics='MeanAbsoluteError' ) # Output metric\n",
    "model.summary()"
   ]
  },
  {
   "cell_type": "markdown",
   "metadata": {},
   "source": [
    "The final stage fits the model to the data and requires some additional training parameters: \n"
   ]
  },
  {
   "cell_type": "code",
   "execution_count": 8,
   "metadata": {},
   "outputs": [
    {
     "name": "stdout",
     "output_type": "stream",
     "text": [
      "Epoch 1/10\n",
      "387/387 [==============================] - 0s 1ms/step - loss: 0.0486 - mean_absolute_error: 0.1160 - val_loss: 0.0370 - val_mean_absolute_error: 0.0668\n",
      "Epoch 2/10\n",
      "387/387 [==============================] - 0s 877us/step - loss: 0.0290 - mean_absolute_error: 0.0839 - val_loss: 0.0370 - val_mean_absolute_error: 0.0668\n",
      "Epoch 3/10\n",
      "387/387 [==============================] - 0s 903us/step - loss: 0.0290 - mean_absolute_error: 0.0838 - val_loss: 0.0370 - val_mean_absolute_error: 0.0668\n",
      "Epoch 4/10\n",
      "387/387 [==============================] - 0s 872us/step - loss: 0.0289 - mean_absolute_error: 0.0838 - val_loss: 0.0371 - val_mean_absolute_error: 0.0672\n",
      "Epoch 5/10\n",
      "387/387 [==============================] - 0s 864us/step - loss: 0.0289 - mean_absolute_error: 0.0838 - val_loss: 0.0371 - val_mean_absolute_error: 0.0671\n",
      "Epoch 6/10\n",
      "387/387 [==============================] - 0s 859us/step - loss: 0.0289 - mean_absolute_error: 0.0838 - val_loss: 0.0370 - val_mean_absolute_error: 0.0670\n",
      "Epoch 7/10\n",
      "387/387 [==============================] - 0s 856us/step - loss: 0.0289 - mean_absolute_error: 0.0838 - val_loss: 0.0370 - val_mean_absolute_error: 0.0671\n",
      "Epoch 8/10\n",
      "387/387 [==============================] - 0s 844us/step - loss: 0.0289 - mean_absolute_error: 0.0838 - val_loss: 0.0370 - val_mean_absolute_error: 0.0670\n",
      "Epoch 9/10\n",
      "387/387 [==============================] - 0s 851us/step - loss: 0.0289 - mean_absolute_error: 0.0838 - val_loss: 0.0370 - val_mean_absolute_error: 0.0668\n",
      "Epoch 10/10\n",
      "387/387 [==============================] - 0s 853us/step - loss: 0.0289 - mean_absolute_error: 0.0837 - val_loss: 0.0371 - val_mean_absolute_error: 0.0675\n"
     ]
    }
   ],
   "source": [
    "fit_NN = model.fit(NN_train_features,                                    # Training features\n",
    "                   NN_train_labels,                                      # Training labels\n",
    "                  epochs = 10, batch_size = 512,                        # Training parameters           \n",
    "                  validation_data = (NN_test_features, NN_test_labels)  # Test data\n",
    "                  )\n",
    "\n"
   ]
  },
  {
   "cell_type": "code",
   "execution_count": 9,
   "metadata": {},
   "outputs": [
    {
     "data": {
      "text/plain": [
       "<matplotlib.legend.Legend at 0x1fe91df8240>"
      ]
     },
     "execution_count": 9,
     "metadata": {},
     "output_type": "execute_result"
    },
    {
     "data": {
      "image/png": "[encoded data removed]",
      "text/plain": [
       "<Figure size 432x288 with 2 Axes>"
      ]
     },
     "metadata": {
      "needs_background": "light"
     },
     "output_type": "display_data"
    }
   ],
   "source": [
    "plt.subplot(2,1,1)\n",
    "plt.plot(fit_NN.history['loss'])\n",
    "plt.plot(fit_NN.history['val_loss'])\n",
    "plt.ylabel('loss')\n",
    "plt.xlabel('epoch')\n",
    "plt.legend(['training', 'validation'], loc='upper right')\n",
    "\n",
    "plt.subplot(2,1,2)\n",
    "plt.plot(fit_NN.history['mean_absolute_error'])\n",
    "plt.plot(fit_NN.history['val_mean_absolute_error'])\n",
    "plt.ylabel('mean_absolute_error')\n",
    "plt.xlabel('epoch')\n",
    "plt.legend(['training', 'validation'], loc='upper right')"
   ]
  },
  {
   "cell_type": "markdown",
   "metadata": {},
   "source": [
    "The batch size is quite arbitrary. For technical reasons pertaining to training on GPUs, these sizes are often powers of 2. \n",
    "\n",
    "The prediction is obtained via the usual predict() function. We use this function below on the testing sample to calculate the hit ratio.\n",
    "\n"
   ]
  },
  {
   "cell_type": "code",
   "execution_count": 10,
   "metadata": {},
   "outputs": [
    {
     "name": "stdout",
     "output_type": "stream",
     "text": [
      "Hit ratio: 0.5457355287146763\n"
     ]
    }
   ],
   "source": [
    "print(\"Hit ratio:\", (model.predict(NN_test_features).T *NN_test_labels.to_numpy()>0).mean())"
   ]
  },
  {
   "cell_type": "markdown",
   "metadata": {},
   "source": [
    "We pursue our exploration of neural networks with a much more detailed example. The aim is to carry out a classification task on the binary label R1M_Usd_C. Before we proceed, we need to format the label properly. To this purpose, we resort to one-hot encoding.\n"
   ]
  },
  {
   "cell_type": "code",
   "execution_count": 11,
   "metadata": {},
   "outputs": [],
   "source": [
    "NN_train_labels_C  = pd.get_dummies(training_sample.R1M_Usd_C)\n",
    "NN_test_labels_C = pd.get_dummies(testing_sample.R1M_Usd_C)"
   ]
  },
  {
   "cell_type": "markdown",
   "metadata": {},
   "source": [
    "The labels NN_train_labels_C and NN_test_labels_C have two columns: the first flags the instances with above median return and the second flags those with below median returns. Note that we do not alter the feature variables: they remain unchanged. Below, we set the structure of the networks with many additional features compared to the first one.\n"
   ]
  },
  {
   "cell_type": "code",
   "execution_count": 12,
   "metadata": {},
   "outputs": [],
   "source": [
    "model_C = Sequential()\n",
    "model_C.add(layers.Dense(16, activation=\"tanh\",                                   # Nb units & activation\n",
    "                        input_shape=(len(NN_train_features.columns),) ,           # Size of input\n",
    "                        kernel_initializer='random_normal',                       # Initialization of weights\n",
    "                        kernel_constraint='non_neg'                               # Weights should be nonneg\n",
    "                        )\n",
    "           )\n",
    "model_C.add(Dropout(0.25))                                                        # Dropping out 25% units\n",
    "model_C.add(layers.Dense(8, activation=\"elu\",                                     # Nb units & activation \n",
    "                        bias_initializer= keras.initializers.Constant(value=0.2), # Initialization of biases\n",
    "                        kernel_regularizer=keras.regularizers.l2(0.01)            # Penalization of weights \n",
    "                        )\n",
    "           )\n",
    "model_C.add(layers.Dense(2, activation=\"softmax\"))                                # Softmax for categorical output"
   ]
  },
  {
   "cell_type": "markdown",
   "metadata": {},
   "source": [
    "The specification of the training is outlined below.\n"
   ]
  },
  {
   "cell_type": "code",
   "execution_count": 13,
   "metadata": {},
   "outputs": [
    {
     "name": "stdout",
     "output_type": "stream",
     "text": [
      "Model: \"sequential\"\n",
      "_________________________________________________________________\n",
      "Layer (type)                 Output Shape              Param #   \n",
      "=================================================================\n",
      "dense (Dense)                (None, 16)                1504      \n",
      "_________________________________________________________________\n",
      "dense_1 (Dense)              (None, 8)                 136       \n",
      "_________________________________________________________________\n",
      "dense_2 (Dense)              (None, 1)                 9         \n",
      "=================================================================\n",
      "Total params: 1,649\n",
      "Trainable params: 1,649\n",
      "Non-trainable params: 0\n",
      "_________________________________________________________________\n"
     ]
    }
   ],
   "source": [
    "model_C.compile(loss='binary_crossentropy',                                                   # Loss function\n",
    "              optimizer=keras.optimizers.Adam(learning_rate=0.005, beta_1=0.9, beta_2=0.95), # Optimisation method (weight updating)\n",
    "              metrics='categorical_accuracy' )                                                # Output metric\n",
    "model.summary()"
   ]
  },
  {
   "cell_type": "markdown",
   "metadata": {},
   "source": [
    "Finally, we proceed with the training of the model.\n"
   ]
  },
  {
   "cell_type": "code",
   "execution_count": 14,
   "metadata": {},
   "outputs": [],
   "source": [
    "fit_NN_C = model_C.fit(NN_train_features, NN_train_labels_C,                          # Training features& labels\n",
    "                  epochs = 20, batch_size = 512,                                      # Training parameters\n",
    "                  validation_data = (NN_test_features, NN_test_labels_C),             # Test data\n",
    "                       verbose = 0,                                                   # No comments from algo\n",
    "                       callbacks = keras.callbacks.EarlyStopping(monitor='val_loss',  # Early stopping: \n",
    "                           min_delta=0.001,                                           # Improvement threshold\n",
    "                           patience=3,                                                # Nb epochs with no improvmt \n",
    "                           verbose=0 )                                                # No warnings\n",
    "                      )"
   ]
  },
  {
   "cell_type": "code",
   "execution_count": 15,
   "metadata": {},
   "outputs": [
    {
     "data": {
      "text/plain": [
       "<matplotlib.legend.Legend at 0x1fe92306d30>"
      ]
     },
     "execution_count": 15,
     "metadata": {},
     "output_type": "execute_result"
    },
    {
     "data": {
      "image/png": "[encoded data removed]",
      "text/plain": [
       "<Figure size 432x288 with 2 Axes>"
      ]
     },
     "metadata": {
      "needs_background": "light"
     },
     "output_type": "display_data"
    }
   ],
   "source": [
    "plt.subplot(2,1,1)\n",
    "plt.plot(fit_NN_C.history['loss'])\n",
    "plt.plot(fit_NN_C.history['val_loss'])\n",
    "plt.ylabel('loss')\n",
    "plt.xlabel('epoch')\n",
    "plt.legend(['training', 'validation'], loc='upper right')\n",
    "\n",
    "plt.subplot(2,1,2)\n",
    "plt.plot(fit_NN_C.history['categorical_accuracy'])\n",
    "plt.plot(fit_NN_C.history['val_categorical_accuracy'])\n",
    "plt.ylabel('categorical_accuracy')\n",
    "plt.xlabel('epoch')\n",
    "plt.legend(['training', 'validation'], loc='upper right')"
   ]
  },
  {
   "cell_type": "markdown",
   "metadata": {},
   "source": [
    "There is only one major difference here compared to the previous training call. In keras, callbacks are functions that can be used at given stages of the learning process. In the above example, we use one such function to stop the algorithm when no progress has been made for some time. \n"
   ]
  },
  {
   "cell_type": "code",
   "execution_count": 16,
   "metadata": {},
   "outputs": [
    {
     "name": "stdout",
     "output_type": "stream",
     "text": [
      "Model: \"sequential_2\"\n",
      "_________________________________________________________________\n",
      "Layer (type)                 Output Shape              Param #   \n",
      "=================================================================\n",
      "dense_6 (Dense)              (None, 16)                1504      \n",
      "_________________________________________________________________\n",
      "dense_7 (Dense)              (None, 8)                 136       \n",
      "_________________________________________________________________\n",
      "dense_8 (Dense)              (None, 1)                 9         \n",
      "=================================================================\n",
      "Total params: 1,649\n",
      "Trainable params: 1,649\n",
      "Non-trainable params: 0\n",
      "_________________________________________________________________\n"
     ]
    }
   ],
   "source": [
    "model_custom = Sequential()\n",
    "model_custom.add(layers.Dense(16, activation=\"relu\", input_shape = (len(NN_train_features.columns),) ))\n",
    "model_custom.add(layers.Dense(8, activation=\"sigmoid\"))\n",
    "model_custom.add(layers.Dense(1))\n",
    "model_custom.summary()"
   ]
  },
  {
   "cell_type": "code",
   "execution_count": 18,
   "metadata": {},
   "outputs": [],
   "source": [
    "def custom_loss(y,f):\n",
    "    y= float(y)                        #To avoid TypeError: Input 'y' of 'Mul' Op has type float32 that does not match type float16 of argument 'x'.\n",
    "    return tf.keras.backend.mean(\n",
    "         (f - tf.keras.backend.mean(f))**2)  \\\n",
    "         - 5 * tf.keras.backend.mean((y - tf.keras.backend.mean(y))\n",
    "                                     * (f - tf.keras.backend.mean(f)))\n",
    "model_custom.compile(loss =custom_loss, # Customized ftn\n",
    "    optimizer='RMSprop',                # Optim method \n",
    "    metrics='MeanAbsoluteError'         # Output metric\n",
    ")"
   ]
  },
  {
   "cell_type": "markdown",
   "metadata": {},
   "source": [
    "Finally, we are ready to train and briefly evalute the performance of the model.\n"
   ]
  },
  {
   "cell_type": "code",
   "execution_count": 19,
   "metadata": {
    "scrolled": true
   },
   "outputs": [
    {
     "name": "stdout",
     "output_type": "stream",
     "text": [
      "Epoch 1/10\n",
      "387/387 [==============================] - 0s 1ms/step - loss: -8.8999e-05 - mean_absolute_error: 0.5009 - val_loss: 0.0010 - val_mean_absolute_error: 0.5000\n",
      "Epoch 2/10\n",
      "387/387 [==============================] - 0s 874us/step - loss: -8.1959e-04 - mean_absolute_error: 0.4930 - val_loss: 8.3621e-04 - val_mean_absolute_error: 0.5000\n",
      "Epoch 3/10\n",
      "387/387 [==============================] - 0s 866us/step - loss: -9.9707e-04 - mean_absolute_error: 0.5071 - val_loss: 7.3066e-04 - val_mean_absolute_error: 0.5000\n",
      "Epoch 4/10\n",
      "387/387 [==============================] - 0s 859us/step - loss: -0.0011 - mean_absolute_error: 0.4955 - val_loss: 9.3262e-04 - val_mean_absolute_error: 0.5000\n",
      "Epoch 5/10\n",
      "387/387 [==============================] - 0s 866us/step - loss: -0.0012 - mean_absolute_error: 0.5032 - val_loss: 0.0010 - val_mean_absolute_error: 0.5000\n",
      "Epoch 6/10\n",
      "387/387 [==============================] - 0s 856us/step - loss: -0.0013 - mean_absolute_error: 0.5202 - val_loss: 9.8909e-04 - val_mean_absolute_error: 0.5000\n",
      "Epoch 7/10\n",
      "387/387 [==============================] - 0s 859us/step - loss: -0.0014 - mean_absolute_error: 0.5470 - val_loss: 9.4406e-04 - val_mean_absolute_error: 0.5000\n",
      "Epoch 8/10\n",
      "387/387 [==============================] - 0s 853us/step - loss: -0.0015 - mean_absolute_error: 0.5629 - val_loss: 0.0019 - val_mean_absolute_error: 0.5000\n",
      "Epoch 9/10\n",
      "387/387 [==============================] - 0s 859us/step - loss: -0.0016 - mean_absolute_error: 0.5808 - val_loss: 0.0013 - val_mean_absolute_error: 0.5000\n",
      "Epoch 10/10\n",
      "387/387 [==============================] - 0s 853us/step - loss: -0.0016 - mean_absolute_error: 0.5914 - val_loss: 0.0018 - val_mean_absolute_error: 0.5000\n"
     ]
    }
   ],
   "source": [
    "fit_NN_cust = model_custom.fit(NN_train_features,NN_train_labels,                                         \n",
    "        epochs = 10, batch_size = 512,                           \n",
    "        validation_data = (NN_test_features, NN_test_labels_C)\n",
    ") \n",
    "\n"
   ]
  },
  {
   "cell_type": "code",
   "execution_count": 20,
   "metadata": {
    "scrolled": true
   },
   "outputs": [
    {
     "data": {
      "text/plain": [
       "<matplotlib.legend.Legend at 0x1fe92d4b2e8>"
      ]
     },
     "execution_count": 20,
     "metadata": {},
     "output_type": "execute_result"
    },
    {
     "data": {
      "image/png": "[encoded data removed]",
      "text/plain": [
       "<Figure size 432x288 with 1 Axes>"
      ]
     },
     "metadata": {
      "needs_background": "light"
     },
     "output_type": "display_data"
    }
   ],
   "source": [
    "plt.plot(fit_NN_cust.history['loss'])\n",
    "plt.plot(fit_NN_cust.history['val_loss'])\n",
    "plt.ylabel('loss')\n",
    "plt.xlabel('epoch')\n",
    "plt.legend(['training', 'validation'], loc='upper right')\n"
   ]
  },
  {
   "cell_type": "markdown",
   "metadata": {},
   "source": [
    "The curves may go in opposite direction. One reason for that is that while improving correlation between realized and predicted values, we are also increasing the sum of squared predicted returns. \n"
   ]
  },
  {
   "cell_type": "code",
   "execution_count": 21,
   "metadata": {},
   "outputs": [
    {
     "name": "stdout",
     "output_type": "stream",
     "text": [
      "Hit ratio: 0.5460346399270738\n"
     ]
    }
   ],
   "source": [
    "#To solve memory error I change the code\n",
    "predict_np = np.where(model_custom.predict(NN_test_features)>0, True, False)\n",
    "NN_test_labels_np = np.where(NN_test_labels>0, True, False)\n",
    "\n",
    "print(\"Hit ratio:\", (predict_np==NN_test_labels_np ).mean() )"
   ]
  },
  {
   "cell_type": "markdown",
   "metadata": {},
   "source": [
    "Next, we dive into recurrent networks.\n",
    "\n",
    "The dimensions  of variables are crucial. In keras, they are defined for RNNs as:\n",
    "\n",
    "1. The size of the batch. In our case, it will be the number of assets. Indeed, the recurrence relationship holds at the asset level, hence each asset will represent a new batch on which the model will learn.     \n",
    "2. The timesteps. In our case, it will simply be the number of dates.    \n",
    "3. The number of features. In our case, there is only one possible figure: the number of predictors. \n",
    "\n",
    "First, we create some new, intermediate variables.\n"
   ]
  },
  {
   "cell_type": "code",
   "execution_count": 22,
   "metadata": {},
   "outputs": [],
   "source": [
    "data_rnn = data_ml[data_ml['stock_id'].isin(stock_ids_short)]\n",
    "training_sample_rnn  = data_rnn[data_rnn.date < separation_date]\n",
    "testing_sample_rnn  = data_rnn[data_rnn.date > separation_date]\n",
    "nb_stocks = len(stock_ids_short)\n",
    "nb_feats = len(features)\n",
    "nb_dates_train = len(training_sample) / nb_stocks\n",
    "nb_dates_test = len(testing_sample) / nb_stocks"
   ]
  },
  {
   "cell_type": "markdown",
   "metadata": {},
   "source": [
    "Then, we construct the variables we will pass as arguments. We recall that the data file was ordered first by stocks and then by date (see Section \\@ref(dataset)).\n"
   ]
  },
  {
   "cell_type": "code",
   "execution_count": 23,
   "metadata": {
    "scrolled": true
   },
   "outputs": [],
   "source": [
    "train_features_rnn = (NN_train_features.to_numpy()[:int(nb_dates_train)*nb_stocks  ]).reshape(int(nb_dates_train),nb_stocks,nb_feats)\n",
    "train_features_rnn = train_features_rnn.transpose(1, 0, 2)\n",
    "test_features_rnn =  (NN_test_features.to_numpy()[:int(nb_dates_test)*nb_stocks ] ).reshape(int(nb_dates_test),nb_stocks,nb_feats)\n",
    "test_features_rnn = test_features_rnn.transpose(1, 0, 2)\n",
    "train_labels_rnn = (NN_train_labels.to_numpy()[:int(nb_dates_train)*nb_stocks  ]).reshape(int(nb_dates_train),nb_stocks,1)\n",
    "train_labels_rnn = train_labels_rnn.transpose(1, 0, 2)\n",
    "test_labels_rnn = (NN_test_labels.to_numpy()[:int(nb_dates_test)*nb_stocks  ]).reshape(int(nb_dates_test),nb_stocks,1)\n",
    "test_labels_rnn = test_labels_rnn.transpose(1, 0, 2)"
   ]
  },
  {
   "cell_type": "markdown",
   "metadata": {},
   "source": [
    "Finally, we move towards the training part. For simplicity, we only consider a simple RNN with only one layer. The structure is outlined below. In terms of recurrence structure, we pick a Gated Recurrent Unit. \n"
   ]
  },
  {
   "cell_type": "code",
   "execution_count": 24,
   "metadata": {
    "scrolled": true
   },
   "outputs": [],
   "source": [
    "model_RNN = Sequential()\n",
    "model_RNN.add(layers.GRU(16,\n",
    "                         batch_input_shape= [nb_stocks,int(nb_dates_train),nb_feats ],\n",
    "                         activation=\"tanh\",\n",
    "                         return_sequences = True\n",
    "                        )\n",
    "           )\n",
    "model_RNN.add(layers.Dense(1))\n",
    "model_RNN.compile(loss='MeanSquaredError',\n",
    "              optimizer='RMSprop',\n",
    "              metrics='MeanAbsoluteError' )\n"
   ]
  },
  {
   "cell_type": "markdown",
   "metadata": {},
   "source": [
    "There are many options available for recurrent layers. For GRUs, we refer to the keras documentation https://keras.io/api/layers/recurrent_layers/gru/. We comment briefly on the option return_sequences which we activate. In many cases, the output is simply the terminal value of the sequence. If we do not require all of the sequence to be returned, we will face a problem in the dimensionality because the label is indeed a full sequence.\n",
    "Once the structure is determined, we can move forward to the training stage."
   ]
  },
  {
   "cell_type": "code",
   "execution_count": 25,
   "metadata": {},
   "outputs": [],
   "source": [
    "fit_RNN = model_RNN.fit(train_features_rnn, train_labels_rnn, # Training features & labels\n",
    "                        epochs = 10,                          # Number of rounds\n",
    "                        batch_size = nb_stocks,               # Length of sequences\n",
    "                        verbose = 0)                          # No comments"
   ]
  },
  {
   "cell_type": "code",
   "execution_count": 26,
   "metadata": {},
   "outputs": [
    {
     "data": {
      "text/plain": [
       "Text(0.5, 0, 'epoch')"
      ]
     },
     "execution_count": 26,
     "metadata": {},
     "output_type": "execute_result"
    },
    {
     "data": {
      "image/png": "[encoded data removed]",
      "text/plain": [
       "<Figure size 432x288 with 2 Axes>"
      ]
     },
     "metadata": {
      "needs_background": "light"
     },
     "output_type": "display_data"
    }
   ],
   "source": [
    "plt.subplot(2,1,1)\n",
    "plt.plot(fit_RNN.history['loss'])\n",
    "plt.ylabel('loss')\n",
    "plt.xlabel('epoch')\n",
    "\n",
    "plt.subplot(2,1,2)\n",
    "plt.plot(fit_RNN.history['mean_absolute_error'])\n",
    "plt.ylabel('mean_absolute_error')\n",
    "plt.xlabel('epoch')"
   ]
  },
  {
   "cell_type": "markdown",
   "metadata": {},
   "source": [
    "Compared to our previous models, the major difference both in the ouptut and the input (the code) is the absence of validation (or testing) data. One reason for that is because keras is very restrictive on RNNs and imposes that both the training and testing samples share the same dimensions. In our situation this is obviously not the case, hence we must bypass this obstacle by duplicating the model.\n"
   ]
  },
  {
   "cell_type": "code",
   "execution_count": 27,
   "metadata": {},
   "outputs": [],
   "source": [
    "new_model = Sequential()\n",
    "new_model.add(layers.GRU(16,\n",
    "                         batch_input_shape= [nb_stocks,int(nb_dates_test),nb_feats ],                         \n",
    "                         activation=\"tanh\",\n",
    "                         return_sequences = True\n",
    "                        )\n",
    "           )\n",
    "new_model.add(layers.Dense(1))\n",
    "new_model.set_weights(fit_RNN.model.get_weights())\n"
   ]
  },
  {
   "cell_type": "markdown",
   "metadata": {},
   "source": [
    "Finally, once the new model is ready - and with the matching dimensions, we can push forward to predicting the test values. We resort to the predict() function and immediately compute the hit ratio obtained by the model.\n"
   ]
  },
  {
   "cell_type": "code",
   "execution_count": 28,
   "metadata": {},
   "outputs": [
    {
     "name": "stdout",
     "output_type": "stream",
     "text": [
      "Hit ratio: 0.505158775650579\n"
     ]
    }
   ],
   "source": [
    "pred_rnn = new_model.predict(test_features_rnn ,batch_size = nb_stocks)\n",
    "print(\"Hit ratio:\", (pred_rnn* test_labels_rnn > 0 ).mean() )\n"
   ]
  },
  {
   "cell_type": "code",
   "execution_count": null,
   "metadata": {},
   "outputs": [],
   "source": []
  }
 ],
 "metadata": {
  "kernelspec": {
   "display_name": "Python 3",
   "language": "python",
   "name": "python3"
  },
  "language_info": {
   "codemirror_mode": {
    "name": "ipython",
    "version": 3
   },
   "file_extension": ".py",
   "mimetype": "text/x-python",
   "name": "python",
   "nbconvert_exporter": "python",
   "pygments_lexer": "ipython3",
   "version": "3.6.10"
  }
 },
 "nbformat": 4,
 "nbformat_minor": 4
}
