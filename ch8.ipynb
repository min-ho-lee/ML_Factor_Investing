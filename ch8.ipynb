{
 "cells": [
  {
   "cell_type": "code",
   "execution_count": 1,
   "metadata": {},
   "outputs": [],
   "source": [
    "import pyreadr \n",
    "import pandas as pd\n",
    "from datetime import datetime as dt\n",
    "from sklearn import svm\n",
    "import os"
   ]
  },
  {
   "cell_type": "code",
   "execution_count": 2,
   "metadata": {},
   "outputs": [],
   "source": [
    "data_ml = pyreadr.read_r(os.path.join(os.path.expanduser('~'),'Downloads','data_ml.RData'))[\"data_ml\"]\n",
    "data_ml.date = pd.to_datetime(data_ml.date)\n",
    "data_ml = data_ml.loc[(data_ml['date'] > \"1999-12-31\") & (data_ml['date'] < \"2019-01-01\")]\n",
    "data_ml.sort_values(by = ['stock_id','date'], inplace = True)\n",
    "data_ml['R1M_Usd_C'] = data_ml.R1M_Usd >  data_ml.groupby('date').R1M_Usd.transform('median')\n",
    "\n",
    "\n",
    "features = list(data_ml.columns[2:95])\n",
    "features_short = [\"Div_Yld\", \"Eps\", \"Mkt_Cap_12M_Usd\", \"Mom_11M_Usd\", \n",
    "                    \"Ocf\", \"Pb\", \"Vol1Y_Usd\"]\n",
    "stock_ids = data_ml.stock_id.unique()                                                                                           \n",
    "stock_days = data_ml.stock_id.value_counts().sort_index()                                           \n",
    "stock_ids_short = stock_ids[stock_days.values == max(stock_days.values)]                            \n",
    "returns_short = data_ml[data_ml['stock_id'].isin(stock_ids_short)][['date','stock_id','R1M_Usd']]\n",
    "returns = returns_short.pivot_table(index='date',columns='stock_id',values='R1M_Usd')\n",
    "separation_date = dt.strptime(\"2014-01-15\",\"%Y-%m-%d\")\n",
    "training_sample = data_ml[data_ml.date < separation_date]\n",
    "testing_sample = data_ml[data_ml.date  >= separation_date]\n",
    "\n",
    "top20 = training_sample['R1M_Usd'].quantile(0.8) \n",
    "bottom20= training_sample['R1M_Usd'].quantile(0.2)\n",
    "train_features = training_sample[(training_sample['R1M_Usd'] > top20) | (training_sample['R1M_Usd'] < bottom20) ]\n",
    "train_features_xgb = train_features[features_short]\n",
    "train_label_xgb = train_features['R1M_Usd']"
   ]
  },
  {
   "cell_type": "code",
   "execution_count": 3,
   "metadata": {},
   "outputs": [
    {
     "data": {
      "text/plain": [
       "0.03720290963990272"
      ]
     },
     "execution_count": 3,
     "metadata": {},
     "output_type": "execute_result"
    }
   ],
   "source": [
    "model_svm = svm.SVR(\n",
    "    kernel='rbf',  \n",
    "    C=0.1,         # Slack variable penalisation                                      \n",
    "    epsilon=0.1,   # Width of strip for errors                                        \n",
    "    gamma=0.5      # Constant in the radial kernel                                      \n",
    "    )\n",
    "fit_svm = model_svm.fit(train_features_xgb.iloc[:1000] , train_label_xgb.iloc[:1000])      \n",
    "test_feat_short = testing_sample[features_short]\n",
    "((fit_svm.predict(test_feat_short) - testing_sample['R1M_Usd'])**2).mean()\n"
   ]
  },
  {
   "cell_type": "code",
   "execution_count": 4,
   "metadata": {},
   "outputs": [
    {
     "name": "stdout",
     "output_type": "stream",
     "text": [
      "Hit ratio: 0.5270339562443026\n"
     ]
    }
   ],
   "source": [
    "print(\"Hit ratio:\", (fit_svm.predict(test_feat_short) * testing_sample['R1M_Usd'] > 0 ).mean() )"
   ]
  },
  {
   "cell_type": "code",
   "execution_count": 5,
   "metadata": {},
   "outputs": [
    {
     "data": {
      "text/plain": [
       "0.49628247493163175"
      ]
     },
     "execution_count": 5,
     "metadata": {},
     "output_type": "execute_result"
    }
   ],
   "source": [
    "model_svm_C = svm.SVC(\n",
    "    kernel='sigmoid',  \n",
    "    C=0.2,         # Slack variable penalisation                                      \n",
    "    coef0=0.3,     # Parameter in the sigmoid kernel                                        \n",
    "    gamma=0.5      # Constant in the sigmoid kernel                                      \n",
    "    )\n",
    "fit_svm_C = model_svm_C.fit(training_sample[features].iloc[:1000], training_sample['R1M_Usd_C'].iloc[:1000])       \n",
    "(fit_svm_C.predict(testing_sample[features]) == testing_sample['R1M_Usd_C']).mean()\n"
   ]
  },
  {
   "cell_type": "code",
   "execution_count": null,
   "metadata": {},
   "outputs": [],
   "source": []
  }
 ],
 "metadata": {
  "kernelspec": {
   "display_name": "base",
   "language": "python",
   "name": "python3"
  },
  "language_info": {
   "codemirror_mode": {
    "name": "ipython",
    "version": 3
   },
   "file_extension": ".py",
   "mimetype": "text/x-python",
   "name": "python",
   "nbconvert_exporter": "python",
   "pygments_lexer": "ipython3",
   "version": "3.12.4"
  }
 },
 "nbformat": 4,
 "nbformat_minor": 2
}
