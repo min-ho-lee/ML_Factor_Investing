{
 "cells": [
  {
   "cell_type": "markdown",
   "metadata": {},
   "source": [
    "# 1. Notation and Data"
   ]
  },
  {
   "cell_type": "markdown",
   "metadata": {},
   "source": [
    "The first step is to activate the packages and load the data."
   ]
  },
  {
   "cell_type": "code",
   "execution_count": 1,
   "metadata": {},
   "outputs": [],
   "source": [
    "import pyreadr \n",
    "import pandas as pd\n",
    "import matplotlib.pyplot as plt\n",
    "%matplotlib inline\n",
    "from datetime import datetime as dt\n",
    "                                                                  \n",
    "data_ml = pyreadr.read_r(# insert path of data_ml.RData )\n",
    "data_ml = data_ml[\"data_ml\"]    "
   ]
  },
  {
   "cell_type": "code",
   "execution_count": 2,
   "metadata": {},
   "outputs": [
    {
     "data": {
      "text/html": [
       "<div>\n",
       "<style scoped>\n",
       "    .dataframe tbody tr th:only-of-type {\n",
       "        vertical-align: middle;\n",
       "    }\n",
       "\n",
       "    .dataframe tbody tr th {\n",
       "        vertical-align: top;\n",
       "    }\n",
       "\n",
       "    .dataframe thead th {\n",
       "        text-align: right;\n",
       "    }\n",
       "</style>\n",
       "<table border=\"1\" class=\"dataframe\">\n",
       "  <thead>\n",
       "    <tr style=\"text-align: right;\">\n",
       "      <th></th>\n",
       "      <th>stock_id</th>\n",
       "      <th>date</th>\n",
       "      <th>Advt_12M_Usd</th>\n",
       "      <th>Advt_3M_Usd</th>\n",
       "      <th>Advt_6M_Usd</th>\n",
       "      <th>Asset_Turnover</th>\n",
       "    </tr>\n",
       "  </thead>\n",
       "  <tbody>\n",
       "    <tr>\n",
       "      <th>177278</th>\n",
       "      <td>1</td>\n",
       "      <td>2000-01-31</td>\n",
       "      <td>0.41</td>\n",
       "      <td>0.39</td>\n",
       "      <td>0.42</td>\n",
       "      <td>0.19</td>\n",
       "    </tr>\n",
       "    <tr>\n",
       "      <th>177279</th>\n",
       "      <td>1</td>\n",
       "      <td>2000-02-29</td>\n",
       "      <td>0.41</td>\n",
       "      <td>0.39</td>\n",
       "      <td>0.40</td>\n",
       "      <td>0.19</td>\n",
       "    </tr>\n",
       "    <tr>\n",
       "      <th>182907</th>\n",
       "      <td>1</td>\n",
       "      <td>2000-03-31</td>\n",
       "      <td>0.40</td>\n",
       "      <td>0.37</td>\n",
       "      <td>0.37</td>\n",
       "      <td>0.20</td>\n",
       "    </tr>\n",
       "    <tr>\n",
       "      <th>182908</th>\n",
       "      <td>1</td>\n",
       "      <td>2000-04-30</td>\n",
       "      <td>0.39</td>\n",
       "      <td>0.36</td>\n",
       "      <td>0.37</td>\n",
       "      <td>0.20</td>\n",
       "    </tr>\n",
       "    <tr>\n",
       "      <th>182909</th>\n",
       "      <td>1</td>\n",
       "      <td>2000-05-31</td>\n",
       "      <td>0.40</td>\n",
       "      <td>0.42</td>\n",
       "      <td>0.40</td>\n",
       "      <td>0.20</td>\n",
       "    </tr>\n",
       "    <tr>\n",
       "      <th>182910</th>\n",
       "      <td>1</td>\n",
       "      <td>2000-06-30</td>\n",
       "      <td>0.41</td>\n",
       "      <td>0.47</td>\n",
       "      <td>0.42</td>\n",
       "      <td>0.21</td>\n",
       "    </tr>\n",
       "  </tbody>\n",
       "</table>\n",
       "</div>"
      ],
      "text/plain": [
       "        stock_id       date  Advt_12M_Usd  Advt_3M_Usd  Advt_6M_Usd  \\\n",
       "177278         1 2000-01-31          0.41         0.39         0.42   \n",
       "177279         1 2000-02-29          0.41         0.39         0.40   \n",
       "182907         1 2000-03-31          0.40         0.37         0.37   \n",
       "182908         1 2000-04-30          0.39         0.36         0.37   \n",
       "182909         1 2000-05-31          0.40         0.42         0.40   \n",
       "182910         1 2000-06-30          0.41         0.47         0.42   \n",
       "\n",
       "        Asset_Turnover  \n",
       "177278            0.19  \n",
       "177279            0.19  \n",
       "182907            0.20  \n",
       "182908            0.20  \n",
       "182909            0.20  \n",
       "182910            0.21  "
      ]
     },
     "execution_count": 2,
     "metadata": {},
     "output_type": "execute_result"
    }
   ],
   "source": [
    "data_ml.date = pd.to_datetime(data_ml.date)\n",
    "\n",
    "data_ml = data_ml.loc[(data_ml['date'] > \"1999-12-31\") & (data_ml['date'] < \"2019-01-01\")]\n",
    "data_ml.sort_values(by = ['stock_id','date'], inplace = True)\n",
    "data_ml.iloc[0:6,:6]"
   ]
  },
  {
   "cell_type": "markdown",
   "metadata": {},
   "source": [
    "Then, a first graph to check data availability through time."
   ]
  },
  {
   "cell_type": "code",
   "execution_count": 3,
   "metadata": {},
   "outputs": [
    {
     "data": {
      "image/png": "[encoded data removed]",
      "text/plain": [
       "<Figure size 432x288 with 1 Axes>"
      ]
     },
     "metadata": {
      "needs_background": "light"
     },
     "output_type": "display_data"
    }
   ],
   "source": [
    "plt.plot(data_ml.date.unique(), data_ml.groupby('date').stock_id.count())\n",
    "plt.xlabel(\"date\")\n",
    "plt.ylabel(\"nb_assets\")\n",
    "plt.show()"
   ]
  },
  {
   "cell_type": "markdown",
   "metadata": {},
   "source": [
    "There are four immediate **labels** in the dataset: R1M_Usd, R3M_Usd, R6M_Usd and R12M_Usd, which correspond to the 1 month, 3 month, 6 month and 12 month future/forward returns of the stocks. The returns are **total returns**, that is, they incorporate potential **dividend** payments over the considered periods. This is a better proxy of financial gain compared to price returns only. We refer to the analysis of @hartzmark2019dividend for a study on the impact of decoupling price returns and dividends. These labels are located in the last 4 columns of the dataset. We provide their descriptive statistics below."
   ]
  },
  {
   "cell_type": "code",
   "execution_count": 4,
   "metadata": {},
   "outputs": [
    {
     "data": {
      "text/html": [
       "<div>\n",
       "<style scoped>\n",
       "    .dataframe tbody tr th:only-of-type {\n",
       "        vertical-align: middle;\n",
       "    }\n",
       "\n",
       "    .dataframe tbody tr th {\n",
       "        vertical-align: top;\n",
       "    }\n",
       "\n",
       "    .dataframe thead th {\n",
       "        text-align: right;\n",
       "    }\n",
       "</style>\n",
       "<table border=\"1\" class=\"dataframe\">\n",
       "  <thead>\n",
       "    <tr style=\"text-align: right;\">\n",
       "      <th></th>\n",
       "      <th>mean</th>\n",
       "      <th>std</th>\n",
       "      <th>min</th>\n",
       "      <th>max</th>\n",
       "    </tr>\n",
       "  </thead>\n",
       "  <tbody>\n",
       "    <tr>\n",
       "      <th>R1M_Usd</th>\n",
       "      <td>0.012732</td>\n",
       "      <td>0.176431</td>\n",
       "      <td>-0.922</td>\n",
       "      <td>30.176</td>\n",
       "    </tr>\n",
       "    <tr>\n",
       "      <th>R3M_Usd</th>\n",
       "      <td>0.036901</td>\n",
       "      <td>0.328289</td>\n",
       "      <td>-0.929</td>\n",
       "      <td>39.389</td>\n",
       "    </tr>\n",
       "    <tr>\n",
       "      <th>R6M_Usd</th>\n",
       "      <td>0.072339</td>\n",
       "      <td>0.527420</td>\n",
       "      <td>-0.980</td>\n",
       "      <td>106.929</td>\n",
       "    </tr>\n",
       "    <tr>\n",
       "      <th>R12M_Usd</th>\n",
       "      <td>0.136865</td>\n",
       "      <td>0.737872</td>\n",
       "      <td>-0.991</td>\n",
       "      <td>95.972</td>\n",
       "    </tr>\n",
       "  </tbody>\n",
       "</table>\n",
       "</div>"
      ],
      "text/plain": [
       "              mean       std    min      max\n",
       "R1M_Usd   0.012732  0.176431 -0.922   30.176\n",
       "R3M_Usd   0.036901  0.328289 -0.929   39.389\n",
       "R6M_Usd   0.072339  0.527420 -0.980  106.929\n",
       "R12M_Usd  0.136865  0.737872 -0.991   95.972"
      ]
     },
     "execution_count": 4,
     "metadata": {},
     "output_type": "execute_result"
    }
   ],
   "source": [
    "data_ml.iloc[:,95:].agg([\"mean\",\"std\", \"min\",\"max\"]).T "
   ]
  },
  {
   "cell_type": "markdown",
   "metadata": {},
   "source": [
    "In anticipation for future models, we keep the name of the predictors in memory. \n",
    "<br>\n",
    "In addition, we also keep a much shorter list of predictors. "
   ]
  },
  {
   "cell_type": "code",
   "execution_count": 5,
   "metadata": {},
   "outputs": [],
   "source": [
    "features = data_ml.columns[2:95]\n",
    "features_short = [\"Div_Yld\", \"Eps\", \"Mkt_Cap_12M_Usd\", \"Mom_11M_Usd\", \n",
    "                    \"Ocf\", \"Pb\", \"Vol1Y_Usd\"]"
   ]
  },
  {
   "cell_type": "markdown",
   "metadata": {},
   "source": [
    "The predictors have been uniformized, that is: for any given feature and time point, the distribution is uniform.\n",
    "<br>\n",
    "Given 1,207 stocks, the graph below cannot display a perfect rectangle."
   ]
  },
  {
   "cell_type": "code",
   "execution_count": 6,
   "metadata": {},
   "outputs": [
    {
     "data": {
      "text/plain": [
       "<AxesSubplot:>"
      ]
     },
     "execution_count": 6,
     "metadata": {},
     "output_type": "execute_result"
    },
    {
     "data": {
      "image/png": "[encoded data removed]",
      "text/plain": [
       "<Figure size 432x288 with 1 Axes>"
      ]
     },
     "metadata": {
      "needs_background": "light"
     },
     "output_type": "display_data"
    }
   ],
   "source": [
    "data_ml[data_ml.date == '2000-02-29'].Div_Yld.hist(bins = 100 )"
   ]
  },
  {
   "cell_type": "markdown",
   "metadata": {},
   "source": [
    "In order to be able to perform classification analyses, we create additional labels that are categorical. \n"
   ]
  },
  {
   "cell_type": "code",
   "execution_count": 7,
   "metadata": {},
   "outputs": [],
   "source": [
    "data_ml['R1M_Usd_C'] = data_ml.R1M_Usd >  data_ml.groupby('date').R1M_Usd.transform('median')\n",
    "data_ml['R12M_Usd_C'] = data_ml.R12M_Usd >  data_ml.groupby('date').R12M_Usd.transform('median')\n",
    "\n",
    "####another way\n",
    "# def get_categorical(x):\n",
    "#     x['R1M_Usd_C'] = x['R1M_Usd'] > x['R1M_Usd'].median()\n",
    "#     x['R1M_Usd_C'] = x['R1M_Usd_C'].astype(int)\n",
    "#     x['R12M_Usd_C'] = x['R12M_Usd'] > x['R12M_Usd'].median()\n",
    "#     x['R12M_Usd_C'] = x['R12M_Usd_C'].astype(int)\n",
    "    \n",
    "#     return x\n",
    "# data_ml = data_ml.groupby('date').apply(get_categorical)"
   ]
  },
  {
   "cell_type": "markdown",
   "metadata": {},
   "source": [
    "The new labels are binary: they are equal to 1 (true) if the original return is above that of the median return over the considered period and to 0 (false) if not. Hence, at each point in time, half of the sample equal to zero and the other half to one: some stocks overperforms and others underperform. \n",
    "\n",
    "In machine learning, models are estimated on one portion of data (**training set**) and then tested on another portion of the data (**testing set**) to assess their quality. We split our sample accordingly.\n"
   ]
  },
  {
   "cell_type": "code",
   "execution_count": 8,
   "metadata": {},
   "outputs": [],
   "source": [
    "separation_date = dt.strptime(\"2014-01-15\",\"%Y-%m-%d\")\n",
    "training_sample = data_ml[data_ml.date < separation_date]\n",
    "testing_sample = data_ml[data_ml.date  >= separation_date]"
   ]
  },
  {
   "cell_type": "markdown",
   "metadata": {},
   "source": [
    "We also keep in memory a few key variables, like the list of asset identifiers and a rectangular version of returns. For simplicity, in the computation of the latter, we shrink the investment universe to keep only the stocks for which we have the maximum number of points.\n"
   ]
  },
  {
   "cell_type": "code",
   "execution_count": 9,
   "metadata": {},
   "outputs": [],
   "source": [
    "stock_ids = data_ml.stock_id.unique()                                                               # A list of all stock_ids                                  \n",
    "stock_days = data_ml.stock_id.value_counts().sort_index()                                           # Compute the number of data points per stock\n",
    "stock_ids_short = stock_ids[stock_days.values == max(stock_days.values)]                            # Stocks with full data\n",
    "\n",
    "returns_short = data_ml[data_ml['stock_id'].isin(stock_ids_short)][['date','stock_id','R1M_Usd']]    \n",
    "#or data_ml[data_ml.stock_id.apply(lambda x : x in stock_ids_short)].[:,['date', 'stock_id', 'R1M_Usd']]\n",
    "returns = returns_short.pivot_table(index=['date'],columns='stock_id',values='R1M_Usd') "
   ]
  },
  {
   "cell_type": "code",
   "execution_count": null,
   "metadata": {},
   "outputs": [],
   "source": []
  }
 ],
 "metadata": {
  "kernelspec": {
   "display_name": "Python 3",
   "language": "python",
   "name": "python3"
  },
  "language_info": {
   "codemirror_mode": {
    "name": "ipython",
    "version": 3
   },
   "file_extension": ".py",
   "mimetype": "text/x-python",
   "name": "python",
   "nbconvert_exporter": "python",
   "pygments_lexer": "ipython3",
   "version": "3.6.10"
  }
 },
 "nbformat": 4,
 "nbformat_minor": 4
}
