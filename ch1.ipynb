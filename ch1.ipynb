{
 "cells": [
  {
   "cell_type": "code",
   "execution_count": 1,
   "metadata": {},
   "outputs": [],
   "source": [
    "import pyreadr \n",
    "import pandas as pd\n",
    "import matplotlib.pyplot as plt\n",
    "%matplotlib inline\n",
    "from datetime import datetime as dt\n",
    "import os\n",
    "\n",
    "                                                                  \n",
    "data_ml = pyreadr.read_r(os.path.join(os.path.expanduser('~'),'Downloads','data_ml.RData'))[\"data_ml\"]\n",
    "data_ml.date = pd.to_datetime(data_ml.date)  "
   ]
  },
  {
   "cell_type": "code",
   "execution_count": 2,
   "metadata": {},
   "outputs": [
    {
     "data": {
      "text/html": [
       "<div>\n",
       "<style scoped>\n",
       "    .dataframe tbody tr th:only-of-type {\n",
       "        vertical-align: middle;\n",
       "    }\n",
       "\n",
       "    .dataframe tbody tr th {\n",
       "        vertical-align: top;\n",
       "    }\n",
       "\n",
       "    .dataframe thead th {\n",
       "        text-align: right;\n",
       "    }\n",
       "</style>\n",
       "<table border=\"1\" class=\"dataframe\">\n",
       "  <thead>\n",
       "    <tr style=\"text-align: right;\">\n",
       "      <th></th>\n",
       "      <th>mean</th>\n",
       "      <th>std</th>\n",
       "      <th>min</th>\n",
       "      <th>max</th>\n",
       "    </tr>\n",
       "  </thead>\n",
       "  <tbody>\n",
       "    <tr>\n",
       "      <th>R12M_Usd</th>\n",
       "      <td>0.135854</td>\n",
       "      <td>0.765346</td>\n",
       "      <td>-0.991</td>\n",
       "      <td>95.972</td>\n",
       "    </tr>\n",
       "    <tr>\n",
       "      <th>R1M_Usd</th>\n",
       "      <td>0.012633</td>\n",
       "      <td>0.177877</td>\n",
       "      <td>-0.922</td>\n",
       "      <td>30.176</td>\n",
       "    </tr>\n",
       "    <tr>\n",
       "      <th>R3M_Usd</th>\n",
       "      <td>0.036206</td>\n",
       "      <td>0.331932</td>\n",
       "      <td>-0.929</td>\n",
       "      <td>39.389</td>\n",
       "    </tr>\n",
       "    <tr>\n",
       "      <th>R6M_Usd</th>\n",
       "      <td>0.071358</td>\n",
       "      <td>0.531054</td>\n",
       "      <td>-0.980</td>\n",
       "      <td>106.929</td>\n",
       "    </tr>\n",
       "  </tbody>\n",
       "</table>\n",
       "</div>"
      ],
      "text/plain": [
       "              mean       std    min      max\n",
       "R12M_Usd  0.135854  0.765346 -0.991   95.972\n",
       "R1M_Usd   0.012633  0.177877 -0.922   30.176\n",
       "R3M_Usd   0.036206  0.331932 -0.929   39.389\n",
       "R6M_Usd   0.071358  0.531054 -0.980  106.929"
      ]
     },
     "execution_count": 2,
     "metadata": {},
     "output_type": "execute_result"
    }
   ],
   "source": [
    "data_ml[['R12M_Usd','R1M_Usd','R3M_Usd', 'R6M_Usd']].agg(['mean','std','min','max']).T"
   ]
  },
  {
   "cell_type": "code",
   "execution_count": 3,
   "metadata": {},
   "outputs": [],
   "source": [
    "features = list(data_ml.columns[2:95])\n",
    "features_short = [\"Div_Yld\", \"Eps\", \"Mkt_Cap_12M_Usd\", \"Mom_11M_Usd\", \n",
    "                    \"Ocf\", \"Pb\", \"Vol1Y_Usd\"]"
   ]
  },
  {
   "cell_type": "code",
   "execution_count": 4,
   "metadata": {},
   "outputs": [
    {
     "data": {
      "text/plain": [
       "<Axes: >"
      ]
     },
     "execution_count": 4,
     "metadata": {},
     "output_type": "execute_result"
    },
    {
     "data": {
      "image/png": "[encoded data removed]",
      "text/plain": [
       "<Figure size 640x480 with 1 Axes>"
      ]
     },
     "metadata": {},
     "output_type": "display_data"
    }
   ],
   "source": [
    "data_ml.loc[data_ml.date==\"2000-02-29\"]['Div_Yld'].hist(bins=100)"
   ]
  },
  {
   "cell_type": "code",
   "execution_count": 5,
   "metadata": {},
   "outputs": [],
   "source": [
    "data_ml['R1M_Usd_C'] = data_ml.R1M_Usd >  data_ml.groupby('date').R1M_Usd.transform('median')\n",
    "data_ml['R12M_Usd_C'] = data_ml.R12M_Usd >  data_ml.groupby('date').R12M_Usd.transform('median')"
   ]
  },
  {
   "cell_type": "code",
   "execution_count": 6,
   "metadata": {},
   "outputs": [],
   "source": [
    "separation_date = dt.strptime(\"2014-01-15\",\"%Y-%m-%d\")\n",
    "training_sample = data_ml[data_ml.date < separation_date]\n",
    "testing_sample = data_ml[data_ml.date  >= separation_date]"
   ]
  },
  {
   "cell_type": "code",
   "execution_count": 7,
   "metadata": {},
   "outputs": [],
   "source": [
    "stock_id = data_ml.stock_id.unique()\n",
    "stock_days = data_ml.groupby('stock_id').date.count()\n",
    "stock_ids_short = stock_days.loc[stock_days==max(stock_days)].index\n",
    "returns = data_ml.loc[data_ml['stock_id'].isin(stock_ids_short)][['date','stock_id','R1M_Usd']]"
   ]
  },
  {
   "cell_type": "code",
   "execution_count": null,
   "metadata": {},
   "outputs": [],
   "source": []
  },
  {
   "cell_type": "code",
   "execution_count": null,
   "metadata": {},
   "outputs": [],
   "source": []
  }
 ],
 "metadata": {
  "kernelspec": {
   "display_name": "base",
   "language": "python",
   "name": "python3"
  },
  "language_info": {
   "codemirror_mode": {
    "name": "ipython",
    "version": 3
   },
   "file_extension": ".py",
   "mimetype": "text/x-python",
   "name": "python",
   "nbconvert_exporter": "python",
   "pygments_lexer": "ipython3",
   "version": "3.12.4"
  }
 },
 "nbformat": 4,
 "nbformat_minor": 2
}
