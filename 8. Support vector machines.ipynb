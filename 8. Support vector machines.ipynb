{
 "cells": [
  {
   "cell_type": "markdown",
   "metadata": {},
   "source": [
    "# 8. Support vector machines"
   ]
  },
  {
   "cell_type": "markdown",
   "metadata": {},
   "source": [
    "The first step is to activate the packages and load the data."
   ]
  },
  {
   "cell_type": "code",
   "execution_count": 1,
   "metadata": {},
   "outputs": [],
   "source": [
    "\n",
    "import pyreadr\n",
    "import pandas as pd\n",
    "import numpy as np\n",
    "from datetime import datetime as dt\n",
    "from sklearn import svm\n",
    "from sklearn.metrics import mean_squared_error"
   ]
  },
  {
   "cell_type": "code",
   "execution_count": 3,
   "metadata": {},
   "outputs": [],
   "source": [
    "#data_ml = pyreadr.read_r(insert path of data_ml.RData)[\"data_ml\"]\n",
    "data_ml.date = pd.to_datetime(data_ml.date)\n",
    "\n",
    "data_ml = data_ml.loc[(data_ml['date'] > \"1999-12-31\") & (data_ml['date'] < \"2019-01-01\")]\n",
    "data_ml.sort_values(by = ['stock_id','date'], inplace = True)"
   ]
  },
  {
   "cell_type": "markdown",
   "metadata": {},
   "source": [
    "We also copy/paste some chunks from Chapter 2.\n"
   ]
  },
  {
   "cell_type": "code",
   "execution_count": 4,
   "metadata": {},
   "outputs": [],
   "source": [
    "stock_ids = data_ml.stock_id.unique() \n",
    "stock_days = data_ml.stock_id.value_counts().sort_index() \n",
    "stock_ids_short = stock_ids[stock_days.values == max(stock_days.values)]\n",
    "\n",
    "returns_short = data_ml[data_ml['stock_id'].isin(stock_ids_short)][['date','stock_id','R1M_Usd']]\n",
    "returns = returns_short.pivot_table(index=['date'],columns='stock_id',values='R1M_Usd')  \n",
    "features = list(data_ml.columns[2:95]) \n",
    "features_short = [\"Div_Yld\", \"Eps\", \"Mkt_Cap_12M_Usd\", \"Mom_11M_Usd\", \n",
    "                    \"Ocf\", \"Pb\", \"Vol1Y_Usd\"]\n",
    "data_ml['R1M_Usd_C'] = data_ml.R1M_Usd >  data_ml.groupby('date').R1M_Usd.transform('median')\n",
    "data_ml['R12M_Usd_C'] = data_ml.R12M_Usd >  data_ml.groupby('date').R12M_Usd.transform('median')\n",
    "separation_date = dt.strptime(\"2014-01-15\",\"%Y-%m-%d\")\n",
    "training_sample = data_ml[data_ml.date < separation_date]\n",
    "testing_sample = data_ml[data_ml.date  >= separation_date]"
   ]
  },
  {
   "cell_type": "markdown",
   "metadata": {},
   "source": [
    "And also from Chapter 6 (for data formats).\n"
   ]
  },
  {
   "cell_type": "code",
   "execution_count": 5,
   "metadata": {},
   "outputs": [],
   "source": [
    "top20 = training_sample.R1M_Usd.quantile(0.8) \n",
    "bottom20= training_sample.R1M_Usd.quantile(0.2)\n",
    "train_features = training_sample[training_sample.R1M_Usd>top20]\n",
    "train_features = train_features.append(training_sample[training_sample.R1M_Usd<bottom20])\n",
    "train_features = train_features.sort_values(by=['stock_id','date'])\n",
    "train_features_xgb = train_features[features_short]\n",
    "train_label_xgb = train_features.R1M_Usd"
   ]
  },
  {
   "cell_type": "markdown",
   "metadata": {},
   "source": [
    "The order of above operations matters: we need the categorical variables like R1M_Usd_C to be present in the training & testing samples."
   ]
  },
  {
   "cell_type": "code",
   "execution_count": 6,
   "metadata": {},
   "outputs": [
    {
     "name": "stdout",
     "output_type": "stream",
     "text": [
      "MSE: 0.03720290963990272\n",
      "Hit ratio: 0.5270339562443026\n"
     ]
    }
   ],
   "source": [
    "fit_svm = svm.SVR(\n",
    "                  kernel = \"rbf\",    #SVM kernel.  It must be one of linear’,'poly’,'rbf’,'sigmoid’,'precomputed’ or a callable             \n",
    "                  epsilon = 0.1,     #Epsilon in the epsilon-SVR model.           \n",
    "                  gamma = 0.5,       #Kernel coefficient for ‘rbf’, ‘poly’ and ‘sigmoid'\n",
    "                  C = 0.1 )          #Regularization parameter. The strength of the regularization is inversely proportional to C.           \n",
    "fit_svm.fit(train_features_xgb[:1000], train_label_xgb[:1000])\n",
    "test_feat_short = testing_sample[features_short]\n",
    "print(\"MSE:\", mean_squared_error(fit_svm.predict(test_feat_short), testing_sample.R1M_Usd) )\n",
    "print(\"Hit ratio:\", (fit_svm.predict(test_feat_short) * testing_sample.R1M_Usd > 0 ).mean() )"
   ]
  },
  {
   "cell_type": "markdown",
   "metadata": {},
   "source": [
    "The results are slightly better than those of the boosted trees. All parameters are completely arbitrary, especially the choice of the kernel. We finally turn to a classification example.\n"
   ]
  },
  {
   "cell_type": "code",
   "execution_count": 7,
   "metadata": {},
   "outputs": [
    {
     "name": "stdout",
     "output_type": "stream",
     "text": [
      "Accuracy: 0.49628247493163175\n"
     ]
    }
   ],
   "source": [
    "fit_svm_C = svm.SVC(\n",
    "                  kernel = \"sigmoid\",  #SVC kernel.  It must be one of linear’,'poly’,'rbf’,'sigmoid’,'precomputed’ or a callable                                 \n",
    "                  gamma = 0.5,         #Kernel coefficient for ‘rbf’, ‘poly’ and ‘sigmoid’.\n",
    "                  coef0 = 0.3,         #Independent term in kernel function. It is only significant in ‘poly’ and ‘sigmoid'\n",
    "                  C = 0.2 )            #Regularization parameter. The strength of the regularization is inversely proportional to C.\n",
    "fit_svm_C.fit(training_sample[features][:1000], training_sample.R1M_Usd_C[:1000])\n",
    "print(\"Accuracy:\", (fit_svm_C.predict(testing_sample[features])== testing_sample.R1M_Usd_C).mean() )"
   ]
  },
  {
   "cell_type": "markdown",
   "metadata": {},
   "source": [
    "Both the small training sample and the arbitrariness in our choice of the parameters may explain why the predictive accuracy is so poor. \n"
   ]
  },
  {
   "cell_type": "code",
   "execution_count": null,
   "metadata": {},
   "outputs": [],
   "source": []
  },
  {
   "cell_type": "code",
   "execution_count": null,
   "metadata": {},
   "outputs": [],
   "source": []
  },
  {
   "cell_type": "code",
   "execution_count": null,
   "metadata": {},
   "outputs": [],
   "source": []
  }
 ],
 "metadata": {
  "kernelspec": {
   "display_name": "Python 3",
   "language": "python",
   "name": "python3"
  },
  "language_info": {
   "codemirror_mode": {
    "name": "ipython",
    "version": 3
   },
   "file_extension": ".py",
   "mimetype": "text/x-python",
   "name": "python",
   "nbconvert_exporter": "python",
   "pygments_lexer": "ipython3",
   "version": "3.6.10"
  }
 },
 "nbformat": 4,
 "nbformat_minor": 4
}
